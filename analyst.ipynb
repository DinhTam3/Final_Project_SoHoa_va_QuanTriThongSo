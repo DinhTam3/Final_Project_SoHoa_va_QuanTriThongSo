{
 "cells": [
  {
   "cell_type": "code",
   "execution_count": 121,
   "metadata": {},
   "outputs": [],
   "source": [
    "import pandas as pd \n",
    "import numpy as np\n",
    "import matplotlib.pyplot as plt \n",
    "import seaborn as sns\n",
    "from datetime import datetime as dt\n",
    "from sklearn.model_selection import train_test_split\n",
    "from sklearn.linear_model import LinearRegression"
   ]
  },
  {
   "cell_type": "markdown",
   "metadata": {},
   "source": [
    "Read input data file"
   ]
  },
  {
   "cell_type": "code",
   "execution_count": 60,
   "metadata": {},
   "outputs": [],
   "source": [
    "dt = pd.read_csv('E:\\SoHoa\\DoAn\\Adidas US Datasets.csv')"
   ]
  },
  {
   "cell_type": "markdown",
   "metadata": {},
   "source": [
    "Look through the data file just read with the first 5 lines"
   ]
  },
  {
   "cell_type": "code",
   "execution_count": 61,
   "metadata": {},
   "outputs": [
    {
     "data": {
      "text/html": [
       "<div>\n",
       "<style scoped>\n",
       "    .dataframe tbody tr th:only-of-type {\n",
       "        vertical-align: middle;\n",
       "    }\n",
       "\n",
       "    .dataframe tbody tr th {\n",
       "        vertical-align: top;\n",
       "    }\n",
       "\n",
       "    .dataframe thead th {\n",
       "        text-align: right;\n",
       "    }\n",
       "</style>\n",
       "<table border=\"1\" class=\"dataframe\">\n",
       "  <thead>\n",
       "    <tr style=\"text-align: right;\">\n",
       "      <th></th>\n",
       "      <th>Retailer</th>\n",
       "      <th>Retailer ID</th>\n",
       "      <th>Invoice Date</th>\n",
       "      <th>Location Key</th>\n",
       "      <th>Product</th>\n",
       "      <th>Price per Unit</th>\n",
       "      <th>Units Sold</th>\n",
       "      <th>Total Sales</th>\n",
       "      <th>Operating Profit</th>\n",
       "      <th>Operating Margin</th>\n",
       "      <th>Sales Method</th>\n",
       "    </tr>\n",
       "  </thead>\n",
       "  <tbody>\n",
       "    <tr>\n",
       "      <th>0</th>\n",
       "      <td>Foot Locker</td>\n",
       "      <td>1185732</td>\n",
       "      <td>1/1/2020</td>\n",
       "      <td>New York-New York</td>\n",
       "      <td>Men's Street Footwear</td>\n",
       "      <td>$50.00</td>\n",
       "      <td>1,200</td>\n",
       "      <td>$600,000</td>\n",
       "      <td>$300,000</td>\n",
       "      <td>50%</td>\n",
       "      <td>In-store</td>\n",
       "    </tr>\n",
       "    <tr>\n",
       "      <th>1</th>\n",
       "      <td>Foot Locker</td>\n",
       "      <td>1185732</td>\n",
       "      <td>1/2/2020</td>\n",
       "      <td>New York-New York</td>\n",
       "      <td>Men's Athletic Footwear</td>\n",
       "      <td>$50.00</td>\n",
       "      <td>1,000</td>\n",
       "      <td>$500,000</td>\n",
       "      <td>$150,000</td>\n",
       "      <td>30%</td>\n",
       "      <td>In-store</td>\n",
       "    </tr>\n",
       "    <tr>\n",
       "      <th>2</th>\n",
       "      <td>Foot Locker</td>\n",
       "      <td>1185732</td>\n",
       "      <td>1/3/2020</td>\n",
       "      <td>New York-New York</td>\n",
       "      <td>Women's Street Footwear</td>\n",
       "      <td>$40.00</td>\n",
       "      <td>1,000</td>\n",
       "      <td>$400,000</td>\n",
       "      <td>$140,000</td>\n",
       "      <td>35%</td>\n",
       "      <td>In-store</td>\n",
       "    </tr>\n",
       "    <tr>\n",
       "      <th>3</th>\n",
       "      <td>Foot Locker</td>\n",
       "      <td>1185732</td>\n",
       "      <td>1/4/2020</td>\n",
       "      <td>New York-New York</td>\n",
       "      <td>Women's Athletic Footwear</td>\n",
       "      <td>$45.00</td>\n",
       "      <td>850</td>\n",
       "      <td>$382,500</td>\n",
       "      <td>$133,875</td>\n",
       "      <td>35%</td>\n",
       "      <td>In-store</td>\n",
       "    </tr>\n",
       "    <tr>\n",
       "      <th>4</th>\n",
       "      <td>Foot Locker</td>\n",
       "      <td>1185732</td>\n",
       "      <td>1/5/2020</td>\n",
       "      <td>New York-New York</td>\n",
       "      <td>Men's Apparel</td>\n",
       "      <td>$60.00</td>\n",
       "      <td>900</td>\n",
       "      <td>$540,000</td>\n",
       "      <td>$162,000</td>\n",
       "      <td>30%</td>\n",
       "      <td>In-store</td>\n",
       "    </tr>\n",
       "  </tbody>\n",
       "</table>\n",
       "</div>"
      ],
      "text/plain": [
       "      Retailer  Retailer ID Invoice Date       Location Key  \\\n",
       "0  Foot Locker      1185732     1/1/2020  New York-New York   \n",
       "1  Foot Locker      1185732     1/2/2020  New York-New York   \n",
       "2  Foot Locker      1185732     1/3/2020  New York-New York   \n",
       "3  Foot Locker      1185732     1/4/2020  New York-New York   \n",
       "4  Foot Locker      1185732     1/5/2020  New York-New York   \n",
       "\n",
       "                     Product Price per Unit Units Sold Total Sales  \\\n",
       "0      Men's Street Footwear        $50.00       1,200   $600,000    \n",
       "1    Men's Athletic Footwear        $50.00       1,000   $500,000    \n",
       "2    Women's Street Footwear        $40.00       1,000   $400,000    \n",
       "3  Women's Athletic Footwear        $45.00         850   $382,500    \n",
       "4              Men's Apparel        $60.00         900   $540,000    \n",
       "\n",
       "  Operating Profit Operating Margin Sales Method  \n",
       "0        $300,000               50%     In-store  \n",
       "1        $150,000               30%     In-store  \n",
       "2        $140,000               35%     In-store  \n",
       "3        $133,875               35%     In-store  \n",
       "4        $162,000               30%     In-store  "
      ]
     },
     "execution_count": 61,
     "metadata": {},
     "output_type": "execute_result"
    }
   ],
   "source": [
    "dt.head()"
   ]
  },
  {
   "cell_type": "markdown",
   "metadata": {},
   "source": [
    "We can also check the size of the data file with the following command"
   ]
  },
  {
   "cell_type": "code",
   "execution_count": 62,
   "metadata": {},
   "outputs": [
    {
     "data": {
      "text/plain": [
       "(9648, 11)"
      ]
     },
     "execution_count": 62,
     "metadata": {},
     "output_type": "execute_result"
    }
   ],
   "source": [
    "dt.shape "
   ]
  },
  {
   "cell_type": "markdown",
   "metadata": {},
   "source": [
    "As a result, we can see that the data file has 9648 rows and 11 columns."
   ]
  },
  {
   "cell_type": "markdown",
   "metadata": {},
   "source": [
    "Next we can check the detailed statistics of each column as follows"
   ]
  },
  {
   "cell_type": "code",
   "execution_count": 63,
   "metadata": {},
   "outputs": [
    {
     "name": "stdout",
     "output_type": "stream",
     "text": [
      "<class 'pandas.core.frame.DataFrame'>\n",
      "RangeIndex: 9648 entries, 0 to 9647\n",
      "Data columns (total 11 columns):\n",
      " #   Column            Non-Null Count  Dtype \n",
      "---  ------            --------------  ----- \n",
      " 0   Retailer          9648 non-null   object\n",
      " 1   Retailer ID       9648 non-null   int64 \n",
      " 2   Invoice Date      9648 non-null   object\n",
      " 3   Location Key      9648 non-null   object\n",
      " 4   Product           9648 non-null   object\n",
      " 5   Price per Unit    9648 non-null   object\n",
      " 6   Units Sold        9648 non-null   object\n",
      " 7   Total Sales       9648 non-null   object\n",
      " 8   Operating Profit  9648 non-null   object\n",
      " 9   Operating Margin  9648 non-null   object\n",
      " 10  Sales Method      9648 non-null   object\n",
      "dtypes: int64(1), object(10)\n",
      "memory usage: 829.2+ KB\n"
     ]
    }
   ],
   "source": [
    "dt.info()"
   ]
  },
  {
   "cell_type": "markdown",
   "metadata": {},
   "source": [
    "We can also check for duplicate values ​​in our data file with the DataFrame.duplicated() statement."
   ]
  },
  {
   "cell_type": "code",
   "execution_count": 64,
   "metadata": {},
   "outputs": [
    {
     "data": {
      "text/html": [
       "<div>\n",
       "<style scoped>\n",
       "    .dataframe tbody tr th:only-of-type {\n",
       "        vertical-align: middle;\n",
       "    }\n",
       "\n",
       "    .dataframe tbody tr th {\n",
       "        vertical-align: top;\n",
       "    }\n",
       "\n",
       "    .dataframe thead th {\n",
       "        text-align: right;\n",
       "    }\n",
       "</style>\n",
       "<table border=\"1\" class=\"dataframe\">\n",
       "  <thead>\n",
       "    <tr style=\"text-align: right;\">\n",
       "      <th></th>\n",
       "      <th>Retailer</th>\n",
       "      <th>Retailer ID</th>\n",
       "      <th>Invoice Date</th>\n",
       "      <th>Location Key</th>\n",
       "      <th>Product</th>\n",
       "      <th>Price per Unit</th>\n",
       "      <th>Units Sold</th>\n",
       "      <th>Total Sales</th>\n",
       "      <th>Operating Profit</th>\n",
       "      <th>Operating Margin</th>\n",
       "      <th>Sales Method</th>\n",
       "    </tr>\n",
       "  </thead>\n",
       "  <tbody>\n",
       "  </tbody>\n",
       "</table>\n",
       "</div>"
      ],
      "text/plain": [
       "Empty DataFrame\n",
       "Columns: [Retailer, Retailer ID, Invoice Date, Location Key, Product, Price per Unit, Units Sold, Total Sales, Operating Profit, Operating Margin, Sales Method]\n",
       "Index: []"
      ]
     },
     "execution_count": 64,
     "metadata": {},
     "output_type": "execute_result"
    }
   ],
   "source": [
    "dup = dt[dt.duplicated()]\n",
    "dup"
   ]
  },
  {
   "cell_type": "markdown",
   "metadata": {},
   "source": [
    "according to the results returned to us. DataFrame does not have any duplicate values"
   ]
  },
  {
   "cell_type": "markdown",
   "metadata": {},
   "source": [
    "Next, we check to see if there are any columns or rows in the DataFrame with missing values ​​with the DataFrame.isna().sum() statement."
   ]
  },
  {
   "cell_type": "code",
   "execution_count": 65,
   "metadata": {},
   "outputs": [
    {
     "data": {
      "text/plain": [
       "Retailer            0\n",
       "Retailer ID         0\n",
       "Invoice Date        0\n",
       "Location Key        0\n",
       "Product             0\n",
       "Price per Unit      0\n",
       "Units Sold          0\n",
       "Total Sales         0\n",
       "Operating Profit    0\n",
       "Operating Margin    0\n",
       "Sales Method        0\n",
       "dtype: int64"
      ]
     },
     "execution_count": 65,
     "metadata": {},
     "output_type": "execute_result"
    }
   ],
   "source": [
    "is_na = dt.isna().sum()\n",
    "is_na"
   ]
  },
  {
   "cell_type": "markdown",
   "metadata": {},
   "source": [
    "To make sure it does not affect the original data file, we copy this file and save it in another variable\n",
    "We can use df.copy() function"
   ]
  },
  {
   "cell_type": "code",
   "execution_count": 66,
   "metadata": {},
   "outputs": [],
   "source": [
    "df = dt.copy(deep=True)"
   ]
  },
  {
   "cell_type": "markdown",
   "metadata": {},
   "source": [
    "Next we will read the file containing the location of each retailer into a DataFrame. And we will proceed with the same steps above to test our DataFrame"
   ]
  },
  {
   "cell_type": "code",
   "execution_count": 67,
   "metadata": {},
   "outputs": [],
   "source": [
    "df_loc = pd.read_csv('E:\\SoHoa\\DoAn\\Location Adidas US Datasets.csv')"
   ]
  },
  {
   "cell_type": "markdown",
   "metadata": {},
   "source": [
    "Look through the data file you just read with the first 5 lines and assign it to the variable named top5"
   ]
  },
  {
   "cell_type": "code",
   "execution_count": 68,
   "metadata": {},
   "outputs": [
    {
     "data": {
      "text/html": [
       "<div>\n",
       "<style scoped>\n",
       "    .dataframe tbody tr th:only-of-type {\n",
       "        vertical-align: middle;\n",
       "    }\n",
       "\n",
       "    .dataframe tbody tr th {\n",
       "        vertical-align: top;\n",
       "    }\n",
       "\n",
       "    .dataframe thead th {\n",
       "        text-align: right;\n",
       "    }\n",
       "</style>\n",
       "<table border=\"1\" class=\"dataframe\">\n",
       "  <thead>\n",
       "    <tr style=\"text-align: right;\">\n",
       "      <th></th>\n",
       "      <th>Region</th>\n",
       "      <th>State</th>\n",
       "      <th>City</th>\n",
       "      <th>LocationKey</th>\n",
       "    </tr>\n",
       "  </thead>\n",
       "  <tbody>\n",
       "    <tr>\n",
       "      <th>0</th>\n",
       "      <td>Northeast</td>\n",
       "      <td>New York</td>\n",
       "      <td>New York</td>\n",
       "      <td>New York-New York</td>\n",
       "    </tr>\n",
       "    <tr>\n",
       "      <th>1</th>\n",
       "      <td>South</td>\n",
       "      <td>Texas</td>\n",
       "      <td>Houston</td>\n",
       "      <td>Texas-Houston</td>\n",
       "    </tr>\n",
       "    <tr>\n",
       "      <th>2</th>\n",
       "      <td>West</td>\n",
       "      <td>California</td>\n",
       "      <td>San Francisco</td>\n",
       "      <td>California-San Francisco</td>\n",
       "    </tr>\n",
       "    <tr>\n",
       "      <th>3</th>\n",
       "      <td>West</td>\n",
       "      <td>California</td>\n",
       "      <td>Los Angeles</td>\n",
       "      <td>California-Los Angeles</td>\n",
       "    </tr>\n",
       "    <tr>\n",
       "      <th>4</th>\n",
       "      <td>Midwest</td>\n",
       "      <td>Illinois</td>\n",
       "      <td>Chicago</td>\n",
       "      <td>Illinois-Chicago</td>\n",
       "    </tr>\n",
       "  </tbody>\n",
       "</table>\n",
       "</div>"
      ],
      "text/plain": [
       "      Region       State           City               LocationKey\n",
       "0  Northeast    New York       New York         New York-New York\n",
       "1      South       Texas        Houston             Texas-Houston\n",
       "2       West  California  San Francisco  California-San Francisco\n",
       "3       West  California    Los Angeles    California-Los Angeles\n",
       "4    Midwest    Illinois        Chicago          Illinois-Chicago"
      ]
     },
     "execution_count": 68,
     "metadata": {},
     "output_type": "execute_result"
    }
   ],
   "source": [
    "top5 = df_loc.head()\n",
    "top5"
   ]
  },
  {
   "cell_type": "markdown",
   "metadata": {},
   "source": [
    "check the size of the DataFrame"
   ]
  },
  {
   "cell_type": "code",
   "execution_count": 69,
   "metadata": {},
   "outputs": [],
   "source": [
    "number_rows = df_loc.shape[0]\n",
    "number_columns = df_loc.shape[1]"
   ]
  },
  {
   "cell_type": "code",
   "execution_count": 70,
   "metadata": {},
   "outputs": [
    {
     "data": {
      "text/plain": [
       "54"
      ]
     },
     "execution_count": 70,
     "metadata": {},
     "output_type": "execute_result"
    }
   ],
   "source": [
    "number_rows"
   ]
  },
  {
   "cell_type": "code",
   "execution_count": 71,
   "metadata": {},
   "outputs": [
    {
     "data": {
      "text/plain": [
       "4"
      ]
     },
     "execution_count": 71,
     "metadata": {},
     "output_type": "execute_result"
    }
   ],
   "source": [
    "number_columns"
   ]
  },
  {
   "cell_type": "markdown",
   "metadata": {},
   "source": [
    "See detailed statistics of DataFrame"
   ]
  },
  {
   "cell_type": "code",
   "execution_count": 72,
   "metadata": {},
   "outputs": [
    {
     "name": "stdout",
     "output_type": "stream",
     "text": [
      "<class 'pandas.core.frame.DataFrame'>\n",
      "RangeIndex: 54 entries, 0 to 53\n",
      "Data columns (total 4 columns):\n",
      " #   Column       Non-Null Count  Dtype \n",
      "---  ------       --------------  ----- \n",
      " 0   Region       54 non-null     object\n",
      " 1   State        54 non-null     object\n",
      " 2   City         54 non-null     object\n",
      " 3   LocationKey  54 non-null     object\n",
      "dtypes: object(4)\n",
      "memory usage: 1.8+ KB\n"
     ]
    }
   ],
   "source": [
    "df_loc.info()"
   ]
  },
  {
   "cell_type": "markdown",
   "metadata": {},
   "source": [
    "check for duplicate and missing values ​​in DataFrame"
   ]
  },
  {
   "cell_type": "code",
   "execution_count": 73,
   "metadata": {},
   "outputs": [
    {
     "data": {
      "text/plain": [
       "0"
      ]
     },
     "execution_count": 73,
     "metadata": {},
     "output_type": "execute_result"
    }
   ],
   "source": [
    "dup = df_loc.duplicated().sum()\n",
    "dup"
   ]
  },
  {
   "cell_type": "code",
   "execution_count": 74,
   "metadata": {},
   "outputs": [
    {
     "data": {
      "text/plain": [
       "Region         0\n",
       "State          0\n",
       "City           0\n",
       "LocationKey    0\n",
       "dtype: int64"
      ]
     },
     "execution_count": 74,
     "metadata": {},
     "output_type": "execute_result"
    }
   ],
   "source": [
    "miss = df_loc.isna().sum()\n",
    "miss"
   ]
  },
  {
   "cell_type": "markdown",
   "metadata": {},
   "source": [
    "After carefully reviewing and checking the DataFrames, we will proceed to connect the 2 DataFrames together. Because the 2 DataFrames have a relationship with each other, we will need to connect them to have a complete DataFrame."
   ]
  },
  {
   "cell_type": "markdown",
   "metadata": {},
   "source": [
    "To join two tables, we need the column names to be the same, so we will change the column name of one of the two DataFrames."
   ]
  },
  {
   "cell_type": "code",
   "execution_count": 75,
   "metadata": {},
   "outputs": [],
   "source": [
    "df_loc.rename(columns={'LocationKey': 'Location Key'}, inplace = True)"
   ]
  },
  {
   "cell_type": "markdown",
   "metadata": {},
   "source": [
    "Review whether the column name has been changed as we want or not"
   ]
  },
  {
   "cell_type": "code",
   "execution_count": 76,
   "metadata": {},
   "outputs": [
    {
     "data": {
      "text/plain": [
       "Index(['Region', 'State', 'City', 'Location Key'], dtype='object')"
      ]
     },
     "execution_count": 76,
     "metadata": {},
     "output_type": "execute_result"
    }
   ],
   "source": [
    "df_loc.columns"
   ]
  },
  {
   "cell_type": "markdown",
   "metadata": {},
   "source": [
    "We proceed to join 2 DataFrames with the command DataFrame.merge()"
   ]
  },
  {
   "cell_type": "code",
   "execution_count": 77,
   "metadata": {},
   "outputs": [],
   "source": [
    "dfn = df.merge(df_loc, how='inner', on='Location Key')"
   ]
  },
  {
   "cell_type": "markdown",
   "metadata": {},
   "source": [
    "Let's check again"
   ]
  },
  {
   "cell_type": "code",
   "execution_count": 78,
   "metadata": {},
   "outputs": [
    {
     "data": {
      "text/html": [
       "<div>\n",
       "<style scoped>\n",
       "    .dataframe tbody tr th:only-of-type {\n",
       "        vertical-align: middle;\n",
       "    }\n",
       "\n",
       "    .dataframe tbody tr th {\n",
       "        vertical-align: top;\n",
       "    }\n",
       "\n",
       "    .dataframe thead th {\n",
       "        text-align: right;\n",
       "    }\n",
       "</style>\n",
       "<table border=\"1\" class=\"dataframe\">\n",
       "  <thead>\n",
       "    <tr style=\"text-align: right;\">\n",
       "      <th></th>\n",
       "      <th>Retailer</th>\n",
       "      <th>Retailer ID</th>\n",
       "      <th>Invoice Date</th>\n",
       "      <th>Location Key</th>\n",
       "      <th>Product</th>\n",
       "      <th>Price per Unit</th>\n",
       "      <th>Units Sold</th>\n",
       "      <th>Total Sales</th>\n",
       "      <th>Operating Profit</th>\n",
       "      <th>Operating Margin</th>\n",
       "      <th>Sales Method</th>\n",
       "      <th>Region</th>\n",
       "      <th>State</th>\n",
       "      <th>City</th>\n",
       "    </tr>\n",
       "  </thead>\n",
       "  <tbody>\n",
       "    <tr>\n",
       "      <th>0</th>\n",
       "      <td>Foot Locker</td>\n",
       "      <td>1185732</td>\n",
       "      <td>1/1/2020</td>\n",
       "      <td>New York-New York</td>\n",
       "      <td>Men's Street Footwear</td>\n",
       "      <td>$50.00</td>\n",
       "      <td>1,200</td>\n",
       "      <td>$600,000</td>\n",
       "      <td>$300,000</td>\n",
       "      <td>50%</td>\n",
       "      <td>In-store</td>\n",
       "      <td>Northeast</td>\n",
       "      <td>New York</td>\n",
       "      <td>New York</td>\n",
       "    </tr>\n",
       "    <tr>\n",
       "      <th>1</th>\n",
       "      <td>Foot Locker</td>\n",
       "      <td>1185732</td>\n",
       "      <td>1/2/2020</td>\n",
       "      <td>New York-New York</td>\n",
       "      <td>Men's Athletic Footwear</td>\n",
       "      <td>$50.00</td>\n",
       "      <td>1,000</td>\n",
       "      <td>$500,000</td>\n",
       "      <td>$150,000</td>\n",
       "      <td>30%</td>\n",
       "      <td>In-store</td>\n",
       "      <td>Northeast</td>\n",
       "      <td>New York</td>\n",
       "      <td>New York</td>\n",
       "    </tr>\n",
       "    <tr>\n",
       "      <th>2</th>\n",
       "      <td>Foot Locker</td>\n",
       "      <td>1185732</td>\n",
       "      <td>1/3/2020</td>\n",
       "      <td>New York-New York</td>\n",
       "      <td>Women's Street Footwear</td>\n",
       "      <td>$40.00</td>\n",
       "      <td>1,000</td>\n",
       "      <td>$400,000</td>\n",
       "      <td>$140,000</td>\n",
       "      <td>35%</td>\n",
       "      <td>In-store</td>\n",
       "      <td>Northeast</td>\n",
       "      <td>New York</td>\n",
       "      <td>New York</td>\n",
       "    </tr>\n",
       "    <tr>\n",
       "      <th>3</th>\n",
       "      <td>Foot Locker</td>\n",
       "      <td>1185732</td>\n",
       "      <td>1/4/2020</td>\n",
       "      <td>New York-New York</td>\n",
       "      <td>Women's Athletic Footwear</td>\n",
       "      <td>$45.00</td>\n",
       "      <td>850</td>\n",
       "      <td>$382,500</td>\n",
       "      <td>$133,875</td>\n",
       "      <td>35%</td>\n",
       "      <td>In-store</td>\n",
       "      <td>Northeast</td>\n",
       "      <td>New York</td>\n",
       "      <td>New York</td>\n",
       "    </tr>\n",
       "    <tr>\n",
       "      <th>4</th>\n",
       "      <td>Foot Locker</td>\n",
       "      <td>1185732</td>\n",
       "      <td>1/5/2020</td>\n",
       "      <td>New York-New York</td>\n",
       "      <td>Men's Apparel</td>\n",
       "      <td>$60.00</td>\n",
       "      <td>900</td>\n",
       "      <td>$540,000</td>\n",
       "      <td>$162,000</td>\n",
       "      <td>30%</td>\n",
       "      <td>In-store</td>\n",
       "      <td>Northeast</td>\n",
       "      <td>New York</td>\n",
       "      <td>New York</td>\n",
       "    </tr>\n",
       "  </tbody>\n",
       "</table>\n",
       "</div>"
      ],
      "text/plain": [
       "      Retailer  Retailer ID Invoice Date       Location Key  \\\n",
       "0  Foot Locker      1185732     1/1/2020  New York-New York   \n",
       "1  Foot Locker      1185732     1/2/2020  New York-New York   \n",
       "2  Foot Locker      1185732     1/3/2020  New York-New York   \n",
       "3  Foot Locker      1185732     1/4/2020  New York-New York   \n",
       "4  Foot Locker      1185732     1/5/2020  New York-New York   \n",
       "\n",
       "                     Product Price per Unit Units Sold Total Sales  \\\n",
       "0      Men's Street Footwear        $50.00       1,200   $600,000    \n",
       "1    Men's Athletic Footwear        $50.00       1,000   $500,000    \n",
       "2    Women's Street Footwear        $40.00       1,000   $400,000    \n",
       "3  Women's Athletic Footwear        $45.00         850   $382,500    \n",
       "4              Men's Apparel        $60.00         900   $540,000    \n",
       "\n",
       "  Operating Profit Operating Margin Sales Method     Region     State  \\\n",
       "0        $300,000               50%     In-store  Northeast  New York   \n",
       "1        $150,000               30%     In-store  Northeast  New York   \n",
       "2        $140,000               35%     In-store  Northeast  New York   \n",
       "3        $133,875               35%     In-store  Northeast  New York   \n",
       "4        $162,000               30%     In-store  Northeast  New York   \n",
       "\n",
       "       City  \n",
       "0  New York  \n",
       "1  New York  \n",
       "2  New York  \n",
       "3  New York  \n",
       "4  New York  "
      ]
     },
     "execution_count": 78,
     "metadata": {},
     "output_type": "execute_result"
    }
   ],
   "source": [
    "dfn.head()"
   ]
  },
  {
   "cell_type": "code",
   "execution_count": 79,
   "metadata": {},
   "outputs": [
    {
     "name": "stdout",
     "output_type": "stream",
     "text": [
      "<class 'pandas.core.frame.DataFrame'>\n",
      "Int64Index: 9648 entries, 0 to 9647\n",
      "Data columns (total 14 columns):\n",
      " #   Column            Non-Null Count  Dtype \n",
      "---  ------            --------------  ----- \n",
      " 0   Retailer          9648 non-null   object\n",
      " 1   Retailer ID       9648 non-null   int64 \n",
      " 2   Invoice Date      9648 non-null   object\n",
      " 3   Location Key      9648 non-null   object\n",
      " 4   Product           9648 non-null   object\n",
      " 5   Price per Unit    9648 non-null   object\n",
      " 6   Units Sold        9648 non-null   object\n",
      " 7   Total Sales       9648 non-null   object\n",
      " 8   Operating Profit  9648 non-null   object\n",
      " 9   Operating Margin  9648 non-null   object\n",
      " 10  Sales Method      9648 non-null   object\n",
      " 11  Region            9648 non-null   object\n",
      " 12  State             9648 non-null   object\n",
      " 13  City              9648 non-null   object\n",
      "dtypes: int64(1), object(13)\n",
      "memory usage: 1.1+ MB\n"
     ]
    }
   ],
   "source": [
    "dfn.info()"
   ]
  },
  {
   "cell_type": "markdown",
   "metadata": {},
   "source": [
    "Next, we will proceed to process some data columns. We see that only the 'Retailer Id' column is of type int64, the remaining columns are objects (strings).\n",
    "But to be able to calculate and visualize data we need to convert the data types of the columns\n",
    "(Price per Unit, Units Sold, Total Sales, Operating Profit) to int64 type"
   ]
  },
  {
   "cell_type": "markdown",
   "metadata": {},
   "source": [
    "First, with the 'Price per unit' column, we will proceed to delete characters such as commas (,), currency symbols ($), spaces (' ')"
   ]
  },
  {
   "cell_type": "code",
   "execution_count": 80,
   "metadata": {},
   "outputs": [
    {
     "data": {
      "text/plain": [
       "array(['$50.00 ', '$40.00 ', '$45.00 ', '$60.00 ', '$55.00 ', '$65.00 ',\n",
       "       '$70.00 ', '$25.00 ', '$35.00 ', '$47.00 ', '$36.00 ', '$41.00 ',\n",
       "       '$46.00 ', '$44.00 ', '$58.00 ', '$48.00 ', '$39.00 ', '$43.00 ',\n",
       "       '$59.00 ', '$56.00 ', '$49.00 ', '$54.00 ', '$64.00 ', '$53.00 ',\n",
       "       '$61.00 ', '$62.00 ', '$68.00 ', '$52.00 ', '$66.00 ', '$51.00 ',\n",
       "       '$24.00 ', '$34.00 ', '$33.00 ', '$32.00 ', '$38.00 ', '$27.00 ',\n",
       "       '$31.00 ', '$28.00 ', '$37.00 ', '$42.00 ', '$20.00 ', '$26.00 ',\n",
       "       '$30.00 ', '$23.00 ', '$29.00 ', '$80.00 ', '$75.00 ', '$72.00 ',\n",
       "       '$63.00 ', '$69.00 ', '$76.00 ', '$67.00 ', '$57.00 ', '$18.00 ',\n",
       "       '$19.00 ', '$21.00 ', '$13.00 ', '$22.00 ', '$71.00 ', '$78.00 ',\n",
       "       '$73.00 ', '$74.00 ', '$85.00 ', '$83.00 ', '$100.00 ', '$90.00 ',\n",
       "       '$95.00 ', '$82.00 ', '$98.00 ', '$77.00 ', '$88.00 ', '$86.00 ',\n",
       "       '$15.00 ', '$14.00 ', '$17.00 ', '$12.00 ', '$10.00 ', '$9.00 ',\n",
       "       '$16.00 ', '$11.00 ', '$7.00 ', '$97.00 ', '$81.00 ', '$79.00 ',\n",
       "       '$96.00 ', '$84.00 ', '$89.00 ', '$110.00 ', '$103.00 ',\n",
       "       '$101.00 ', '$87.00 ', '$105.00 ', '$92.00 ', '$8.00 '],\n",
       "      dtype=object)"
      ]
     },
     "execution_count": 80,
     "metadata": {},
     "output_type": "execute_result"
    }
   ],
   "source": [
    "dfn['Price per Unit'].unique()"
   ]
  },
  {
   "cell_type": "code",
   "execution_count": 81,
   "metadata": {},
   "outputs": [],
   "source": [
    "dfn['Price per Unit'] = dfn['Price per Unit'].apply(lambda x: x.replace(',', ''))\n",
    "dfn['Price per Unit'] = dfn['Price per Unit'].apply(lambda x: x.replace('$', ''))\n",
    "dfn['Price per Unit'] = dfn['Price per Unit'].apply(lambda x: x.replace(' ', ''))\n",
    "dfn['Price per Unit'] = dfn['Price per Unit'].apply(lambda x: x.replace('.00', ''))"
   ]
  },
  {
   "cell_type": "markdown",
   "metadata": {},
   "source": [
    "Check whether the results are as we expected or not"
   ]
  },
  {
   "cell_type": "code",
   "execution_count": 82,
   "metadata": {},
   "outputs": [
    {
     "data": {
      "text/plain": [
       "0    50\n",
       "1    50\n",
       "2    40\n",
       "3    45\n",
       "4    60\n",
       "Name: Price per Unit, dtype: object"
      ]
     },
     "execution_count": 82,
     "metadata": {},
     "output_type": "execute_result"
    }
   ],
   "source": [
    "dfn['Price per Unit'].head()"
   ]
  },
  {
   "cell_type": "markdown",
   "metadata": {},
   "source": [
    "Next will be to convert the data type for the Price per Unit column from object to int or float"
   ]
  },
  {
   "cell_type": "code",
   "execution_count": 83,
   "metadata": {},
   "outputs": [
    {
     "name": "stdout",
     "output_type": "stream",
     "text": [
      "int32\n"
     ]
    }
   ],
   "source": [
    "dfn['Price per Unit'] = dfn['Price per Unit'].astype(int)\n",
    "print(dfn['Price per Unit'].dtype)"
   ]
  },
  {
   "cell_type": "markdown",
   "metadata": {},
   "source": [
    "We do the same for the other columns"
   ]
  },
  {
   "cell_type": "code",
   "execution_count": 84,
   "metadata": {},
   "outputs": [],
   "source": [
    "dfn['Total Sales'] = dfn['Total Sales'].apply(lambda x: x.replace('$', ''))\n",
    "dfn['Total Sales'] = dfn['Total Sales'].apply(lambda x: x.replace(',', ''))"
   ]
  },
  {
   "cell_type": "code",
   "execution_count": 85,
   "metadata": {},
   "outputs": [
    {
     "name": "stdout",
     "output_type": "stream",
     "text": [
      "int32\n"
     ]
    }
   ],
   "source": [
    "dfn['Total Sales'] = dfn['Total Sales'].astype(int)\n",
    "print(dfn['Total Sales'].dtypes)"
   ]
  },
  {
   "cell_type": "code",
   "execution_count": 86,
   "metadata": {},
   "outputs": [
    {
     "data": {
      "text/plain": [
       "0       300000\n",
       "1       150000\n",
       "2       140000\n",
       "3       133875\n",
       "4       162000\n",
       "         ...  \n",
       "9643       896\n",
       "9644      1378\n",
       "9645      2791\n",
       "9646      1235\n",
       "9647       650\n",
       "Name: Operating Profit, Length: 9648, dtype: int32"
      ]
     },
     "execution_count": 86,
     "metadata": {},
     "output_type": "execute_result"
    }
   ],
   "source": [
    "dfn['Operating Profit'] = dfn['Operating Profit'].apply(lambda x: x.replace('$', ''))\n",
    "dfn['Operating Profit'] = dfn['Operating Profit'].apply(lambda x: x.replace(',', ''))\n",
    "dfn['Operating Profit'] = dfn['Operating Profit'].astype(int)\n",
    "dfn['Operating Profit']"
   ]
  },
  {
   "cell_type": "code",
   "execution_count": 87,
   "metadata": {},
   "outputs": [
    {
     "data": {
      "text/plain": [
       "0       1200\n",
       "1       1000\n",
       "2       1000\n",
       "3        850\n",
       "4        900\n",
       "        ... \n",
       "9643      64\n",
       "9644     105\n",
       "9645     184\n",
       "9646      70\n",
       "9647      83\n",
       "Name: Units Sold, Length: 9648, dtype: int32"
      ]
     },
     "execution_count": 87,
     "metadata": {},
     "output_type": "execute_result"
    }
   ],
   "source": [
    "dfn['Units Sold'] = dfn['Units Sold'].apply(lambda x: x.replace(',', ''))\n",
    "dfn['Units Sold'] = dfn['Units Sold'].astype(int)\n",
    "dfn['Units Sold']"
   ]
  },
  {
   "cell_type": "markdown",
   "metadata": {},
   "source": [
    "Check the detailed statistics for the newly changed DataFrame"
   ]
  },
  {
   "cell_type": "code",
   "execution_count": 88,
   "metadata": {},
   "outputs": [
    {
     "name": "stdout",
     "output_type": "stream",
     "text": [
      "<class 'pandas.core.frame.DataFrame'>\n",
      "Int64Index: 9648 entries, 0 to 9647\n",
      "Data columns (total 14 columns):\n",
      " #   Column            Non-Null Count  Dtype \n",
      "---  ------            --------------  ----- \n",
      " 0   Retailer          9648 non-null   object\n",
      " 1   Retailer ID       9648 non-null   int64 \n",
      " 2   Invoice Date      9648 non-null   object\n",
      " 3   Location Key      9648 non-null   object\n",
      " 4   Product           9648 non-null   object\n",
      " 5   Price per Unit    9648 non-null   int32 \n",
      " 6   Units Sold        9648 non-null   int32 \n",
      " 7   Total Sales       9648 non-null   int32 \n",
      " 8   Operating Profit  9648 non-null   int32 \n",
      " 9   Operating Margin  9648 non-null   object\n",
      " 10  Sales Method      9648 non-null   object\n",
      " 11  Region            9648 non-null   object\n",
      " 12  State             9648 non-null   object\n",
      " 13  City              9648 non-null   object\n",
      "dtypes: int32(4), int64(1), object(9)\n",
      "memory usage: 979.9+ KB\n"
     ]
    }
   ],
   "source": [
    "dfn.info()"
   ]
  },
  {
   "cell_type": "markdown",
   "metadata": {},
   "source": [
    "We also need to convert the data type for the 'Invoice Date' column from Object to Datetime to make it easier to handle date data types."
   ]
  },
  {
   "cell_type": "code",
   "execution_count": 89,
   "metadata": {},
   "outputs": [
    {
     "name": "stdout",
     "output_type": "stream",
     "text": [
      "datetime64[ns]\n"
     ]
    }
   ],
   "source": [
    "dfn['Invoice Date'] = pd.to_datetime(dfn['Invoice Date'])\n",
    "print(dfn['Invoice Date'].dtypes)"
   ]
  },
  {
   "cell_type": "markdown",
   "metadata": {},
   "source": [
    "After processing the data types and converting them, next we will proceed to visualize the data to have a better overview and understanding."
   ]
  },
  {
   "cell_type": "code",
   "execution_count": 90,
   "metadata": {},
   "outputs": [
    {
     "data": {
      "text/plain": [
       "{'Foot Locker': 220094720,\n",
       " 'Walmart': 74558410,\n",
       " 'Sports Direct': 182470997,\n",
       " 'West Gear': 242964333,\n",
       " \"Kohl's\": 102114753,\n",
       " 'Amazon': 77698912}"
      ]
     },
     "execution_count": 90,
     "metadata": {},
     "output_type": "execute_result"
    }
   ],
   "source": [
    "retailer = dfn['Retailer'].unique()\n",
    "sale_by_retailer = {}\n",
    "for item in retailer:\n",
    "    rows = dfn[dfn['Retailer'] == item]\n",
    "    total_sale = rows['Total Sales'].sum()\n",
    "    sale_by_retailer[item] = total_sale\n",
    "sale_by_retailer"
   ]
  },
  {
   "cell_type": "code",
   "execution_count": 91,
   "metadata": {},
   "outputs": [
    {
     "data": {
      "text/plain": [
       "{'Walmart': 74558410,\n",
       " 'Amazon': 77698912,\n",
       " \"Kohl's\": 102114753,\n",
       " 'Sports Direct': 182470997,\n",
       " 'Foot Locker': 220094720,\n",
       " 'West Gear': 242964333}"
      ]
     },
     "execution_count": 91,
     "metadata": {},
     "output_type": "execute_result"
    }
   ],
   "source": [
    "sale_by_retailer = dict(sorted(sale_by_retailer.items(), key=lambda item: item[1]))\n",
    "sale_by_retailer"
   ]
  },
  {
   "cell_type": "code",
   "execution_count": 92,
   "metadata": {},
   "outputs": [],
   "source": [
    "name_retailer = []\n",
    "value_retailer = []\n",
    "for item in sale_by_retailer:\n",
    "    name = item \n",
    "    value = sale_by_retailer[item]\n",
    "    name_retailer.append(name)\n",
    "    value_retailer.append(value)"
   ]
  },
  {
   "cell_type": "code",
   "execution_count": 93,
   "metadata": {},
   "outputs": [
    {
     "data": {
      "image/png": "[encoded data removed]",
      "text/plain": [
       "<Figure size 800x600 with 1 Axes>"
      ]
     },
     "metadata": {},
     "output_type": "display_data"
    }
   ],
   "source": [
    "plt.figure(figsize=(8,6))\n",
    "plt.barh(name_retailer, value_retailer)\n",
    "plt.ticklabel_format(axis='x', style='plain')\n",
    "plt.title('Total Sales by Retailer in 2020 & 2021')\n",
    "plt.xlabel('Total Sales')\n",
    "plt.ylabel('Retailer')\n",
    "plt.show()"
   ]
  },
  {
   "cell_type": "markdown",
   "metadata": {},
   "source": [
    "Because we have 2 years, 2020 and 2021, we will now separate two years to compare."
   ]
  },
  {
   "cell_type": "code",
   "execution_count": 94,
   "metadata": {},
   "outputs": [
    {
     "data": {
      "text/html": [
       "<div>\n",
       "<style scoped>\n",
       "    .dataframe tbody tr th:only-of-type {\n",
       "        vertical-align: middle;\n",
       "    }\n",
       "\n",
       "    .dataframe tbody tr th {\n",
       "        vertical-align: top;\n",
       "    }\n",
       "\n",
       "    .dataframe thead th {\n",
       "        text-align: right;\n",
       "    }\n",
       "</style>\n",
       "<table border=\"1\" class=\"dataframe\">\n",
       "  <thead>\n",
       "    <tr style=\"text-align: right;\">\n",
       "      <th></th>\n",
       "      <th>Retailer</th>\n",
       "      <th>Retailer ID</th>\n",
       "      <th>Invoice Date</th>\n",
       "      <th>Location Key</th>\n",
       "      <th>Product</th>\n",
       "      <th>Price per Unit</th>\n",
       "      <th>Units Sold</th>\n",
       "      <th>Total Sales</th>\n",
       "      <th>Operating Profit</th>\n",
       "      <th>Operating Margin</th>\n",
       "      <th>Sales Method</th>\n",
       "      <th>Region</th>\n",
       "      <th>State</th>\n",
       "      <th>City</th>\n",
       "    </tr>\n",
       "  </thead>\n",
       "  <tbody>\n",
       "    <tr>\n",
       "      <th>0</th>\n",
       "      <td>Foot Locker</td>\n",
       "      <td>1185732</td>\n",
       "      <td>2020-01-01</td>\n",
       "      <td>New York-New York</td>\n",
       "      <td>Men's Street Footwear</td>\n",
       "      <td>50</td>\n",
       "      <td>1200</td>\n",
       "      <td>600000</td>\n",
       "      <td>300000</td>\n",
       "      <td>50%</td>\n",
       "      <td>In-store</td>\n",
       "      <td>Northeast</td>\n",
       "      <td>New York</td>\n",
       "      <td>New York</td>\n",
       "    </tr>\n",
       "    <tr>\n",
       "      <th>1</th>\n",
       "      <td>Foot Locker</td>\n",
       "      <td>1185732</td>\n",
       "      <td>2020-01-02</td>\n",
       "      <td>New York-New York</td>\n",
       "      <td>Men's Athletic Footwear</td>\n",
       "      <td>50</td>\n",
       "      <td>1000</td>\n",
       "      <td>500000</td>\n",
       "      <td>150000</td>\n",
       "      <td>30%</td>\n",
       "      <td>In-store</td>\n",
       "      <td>Northeast</td>\n",
       "      <td>New York</td>\n",
       "      <td>New York</td>\n",
       "    </tr>\n",
       "    <tr>\n",
       "      <th>2</th>\n",
       "      <td>Foot Locker</td>\n",
       "      <td>1185732</td>\n",
       "      <td>2020-01-03</td>\n",
       "      <td>New York-New York</td>\n",
       "      <td>Women's Street Footwear</td>\n",
       "      <td>40</td>\n",
       "      <td>1000</td>\n",
       "      <td>400000</td>\n",
       "      <td>140000</td>\n",
       "      <td>35%</td>\n",
       "      <td>In-store</td>\n",
       "      <td>Northeast</td>\n",
       "      <td>New York</td>\n",
       "      <td>New York</td>\n",
       "    </tr>\n",
       "    <tr>\n",
       "      <th>3</th>\n",
       "      <td>Foot Locker</td>\n",
       "      <td>1185732</td>\n",
       "      <td>2020-01-04</td>\n",
       "      <td>New York-New York</td>\n",
       "      <td>Women's Athletic Footwear</td>\n",
       "      <td>45</td>\n",
       "      <td>850</td>\n",
       "      <td>382500</td>\n",
       "      <td>133875</td>\n",
       "      <td>35%</td>\n",
       "      <td>In-store</td>\n",
       "      <td>Northeast</td>\n",
       "      <td>New York</td>\n",
       "      <td>New York</td>\n",
       "    </tr>\n",
       "    <tr>\n",
       "      <th>4</th>\n",
       "      <td>Foot Locker</td>\n",
       "      <td>1185732</td>\n",
       "      <td>2020-01-05</td>\n",
       "      <td>New York-New York</td>\n",
       "      <td>Men's Apparel</td>\n",
       "      <td>60</td>\n",
       "      <td>900</td>\n",
       "      <td>540000</td>\n",
       "      <td>162000</td>\n",
       "      <td>30%</td>\n",
       "      <td>In-store</td>\n",
       "      <td>Northeast</td>\n",
       "      <td>New York</td>\n",
       "      <td>New York</td>\n",
       "    </tr>\n",
       "  </tbody>\n",
       "</table>\n",
       "</div>"
      ],
      "text/plain": [
       "      Retailer  Retailer ID Invoice Date       Location Key  \\\n",
       "0  Foot Locker      1185732   2020-01-01  New York-New York   \n",
       "1  Foot Locker      1185732   2020-01-02  New York-New York   \n",
       "2  Foot Locker      1185732   2020-01-03  New York-New York   \n",
       "3  Foot Locker      1185732   2020-01-04  New York-New York   \n",
       "4  Foot Locker      1185732   2020-01-05  New York-New York   \n",
       "\n",
       "                     Product  Price per Unit  Units Sold  Total Sales  \\\n",
       "0      Men's Street Footwear              50        1200       600000   \n",
       "1    Men's Athletic Footwear              50        1000       500000   \n",
       "2    Women's Street Footwear              40        1000       400000   \n",
       "3  Women's Athletic Footwear              45         850       382500   \n",
       "4              Men's Apparel              60         900       540000   \n",
       "\n",
       "   Operating Profit Operating Margin Sales Method     Region     State  \\\n",
       "0            300000              50%     In-store  Northeast  New York   \n",
       "1            150000              30%     In-store  Northeast  New York   \n",
       "2            140000              35%     In-store  Northeast  New York   \n",
       "3            133875              35%     In-store  Northeast  New York   \n",
       "4            162000              30%     In-store  Northeast  New York   \n",
       "\n",
       "       City  \n",
       "0  New York  \n",
       "1  New York  \n",
       "2  New York  \n",
       "3  New York  \n",
       "4  New York  "
      ]
     },
     "execution_count": 94,
     "metadata": {},
     "output_type": "execute_result"
    }
   ],
   "source": [
    "dfn_2020 = dfn[dfn['Invoice Date'].between('1/1/2020', '12/31/2020')]\n",
    "dfn_2020.head()"
   ]
  },
  {
   "cell_type": "code",
   "execution_count": 95,
   "metadata": {},
   "outputs": [
    {
     "data": {
      "text/plain": [
       "0       2020\n",
       "1       2020\n",
       "2       2020\n",
       "3       2020\n",
       "4       2020\n",
       "        ... \n",
       "2227    2020\n",
       "2228    2020\n",
       "2229    2020\n",
       "2230    2020\n",
       "2231    2020\n",
       "Name: Invoice Date, Length: 1302, dtype: int64"
      ]
     },
     "execution_count": 95,
     "metadata": {},
     "output_type": "execute_result"
    }
   ],
   "source": [
    "dfn_2020['Invoice Date'].dt.year"
   ]
  },
  {
   "cell_type": "code",
   "execution_count": 96,
   "metadata": {},
   "outputs": [
    {
     "data": {
      "text/html": [
       "<div>\n",
       "<style scoped>\n",
       "    .dataframe tbody tr th:only-of-type {\n",
       "        vertical-align: middle;\n",
       "    }\n",
       "\n",
       "    .dataframe tbody tr th {\n",
       "        vertical-align: top;\n",
       "    }\n",
       "\n",
       "    .dataframe thead th {\n",
       "        text-align: right;\n",
       "    }\n",
       "</style>\n",
       "<table border=\"1\" class=\"dataframe\">\n",
       "  <thead>\n",
       "    <tr style=\"text-align: right;\">\n",
       "      <th></th>\n",
       "      <th>Retailer</th>\n",
       "      <th>Retailer ID</th>\n",
       "      <th>Invoice Date</th>\n",
       "      <th>Location Key</th>\n",
       "      <th>Product</th>\n",
       "      <th>Price per Unit</th>\n",
       "      <th>Units Sold</th>\n",
       "      <th>Total Sales</th>\n",
       "      <th>Operating Profit</th>\n",
       "      <th>Operating Margin</th>\n",
       "      <th>Sales Method</th>\n",
       "      <th>Region</th>\n",
       "      <th>State</th>\n",
       "      <th>City</th>\n",
       "    </tr>\n",
       "  </thead>\n",
       "  <tbody>\n",
       "    <tr>\n",
       "      <th>453</th>\n",
       "      <td>West Gear</td>\n",
       "      <td>1128299</td>\n",
       "      <td>2021-01-01</td>\n",
       "      <td>California-San Francisco</td>\n",
       "      <td>Men's Athletic Footwear</td>\n",
       "      <td>65</td>\n",
       "      <td>750</td>\n",
       "      <td>487500</td>\n",
       "      <td>121875</td>\n",
       "      <td>25%</td>\n",
       "      <td>Outlet</td>\n",
       "      <td>West</td>\n",
       "      <td>California</td>\n",
       "      <td>San Francisco</td>\n",
       "    </tr>\n",
       "    <tr>\n",
       "      <th>454</th>\n",
       "      <td>West Gear</td>\n",
       "      <td>1128299</td>\n",
       "      <td>2021-01-02</td>\n",
       "      <td>California-San Francisco</td>\n",
       "      <td>Women's Street Footwear</td>\n",
       "      <td>65</td>\n",
       "      <td>750</td>\n",
       "      <td>487500</td>\n",
       "      <td>195000</td>\n",
       "      <td>40%</td>\n",
       "      <td>Outlet</td>\n",
       "      <td>West</td>\n",
       "      <td>California</td>\n",
       "      <td>San Francisco</td>\n",
       "    </tr>\n",
       "    <tr>\n",
       "      <th>455</th>\n",
       "      <td>West Gear</td>\n",
       "      <td>1128299</td>\n",
       "      <td>2021-01-03</td>\n",
       "      <td>California-San Francisco</td>\n",
       "      <td>Women's Athletic Footwear</td>\n",
       "      <td>60</td>\n",
       "      <td>650</td>\n",
       "      <td>390000</td>\n",
       "      <td>136500</td>\n",
       "      <td>35%</td>\n",
       "      <td>Outlet</td>\n",
       "      <td>West</td>\n",
       "      <td>California</td>\n",
       "      <td>San Francisco</td>\n",
       "    </tr>\n",
       "    <tr>\n",
       "      <th>456</th>\n",
       "      <td>West Gear</td>\n",
       "      <td>1128299</td>\n",
       "      <td>2021-01-04</td>\n",
       "      <td>California-San Francisco</td>\n",
       "      <td>Men's Apparel</td>\n",
       "      <td>65</td>\n",
       "      <td>550</td>\n",
       "      <td>357500</td>\n",
       "      <td>196625</td>\n",
       "      <td>55%</td>\n",
       "      <td>Outlet</td>\n",
       "      <td>West</td>\n",
       "      <td>California</td>\n",
       "      <td>San Francisco</td>\n",
       "    </tr>\n",
       "    <tr>\n",
       "      <th>457</th>\n",
       "      <td>West Gear</td>\n",
       "      <td>1128299</td>\n",
       "      <td>2021-01-05</td>\n",
       "      <td>California-San Francisco</td>\n",
       "      <td>Women's Apparel</td>\n",
       "      <td>80</td>\n",
       "      <td>725</td>\n",
       "      <td>580000</td>\n",
       "      <td>116000</td>\n",
       "      <td>20%</td>\n",
       "      <td>Outlet</td>\n",
       "      <td>West</td>\n",
       "      <td>California</td>\n",
       "      <td>San Francisco</td>\n",
       "    </tr>\n",
       "  </tbody>\n",
       "</table>\n",
       "</div>"
      ],
      "text/plain": [
       "      Retailer  Retailer ID Invoice Date              Location Key  \\\n",
       "453  West Gear      1128299   2021-01-01  California-San Francisco   \n",
       "454  West Gear      1128299   2021-01-02  California-San Francisco   \n",
       "455  West Gear      1128299   2021-01-03  California-San Francisco   \n",
       "456  West Gear      1128299   2021-01-04  California-San Francisco   \n",
       "457  West Gear      1128299   2021-01-05  California-San Francisco   \n",
       "\n",
       "                       Product  Price per Unit  Units Sold  Total Sales  \\\n",
       "453    Men's Athletic Footwear              65         750       487500   \n",
       "454    Women's Street Footwear              65         750       487500   \n",
       "455  Women's Athletic Footwear              60         650       390000   \n",
       "456              Men's Apparel              65         550       357500   \n",
       "457            Women's Apparel              80         725       580000   \n",
       "\n",
       "     Operating Profit Operating Margin Sales Method Region       State  \\\n",
       "453            121875              25%       Outlet   West  California   \n",
       "454            195000              40%       Outlet   West  California   \n",
       "455            136500              35%       Outlet   West  California   \n",
       "456            196625              55%       Outlet   West  California   \n",
       "457            116000              20%       Outlet   West  California   \n",
       "\n",
       "              City  \n",
       "453  San Francisco  \n",
       "454  San Francisco  \n",
       "455  San Francisco  \n",
       "456  San Francisco  \n",
       "457  San Francisco  "
      ]
     },
     "execution_count": 96,
     "metadata": {},
     "output_type": "execute_result"
    }
   ],
   "source": [
    "dfn_2021 = dfn[dfn['Invoice Date'].between('1/1/2021', '12/31/2021')]\n",
    "dfn_2021.head()"
   ]
  },
  {
   "cell_type": "code",
   "execution_count": 97,
   "metadata": {},
   "outputs": [
    {
     "data": {
      "text/plain": [
       "453     2021\n",
       "454     2021\n",
       "455     2021\n",
       "456     2021\n",
       "457     2021\n",
       "        ... \n",
       "9643    2021\n",
       "9644    2021\n",
       "9645    2021\n",
       "9646    2021\n",
       "9647    2021\n",
       "Name: Invoice Date, Length: 8346, dtype: int64"
      ]
     },
     "execution_count": 97,
     "metadata": {},
     "output_type": "execute_result"
    }
   ],
   "source": [
    "dfn_2021['Invoice Date'].dt.year"
   ]
  },
  {
   "cell_type": "code",
   "execution_count": 98,
   "metadata": {},
   "outputs": [
    {
     "name": "stderr",
     "output_type": "stream",
     "text": [
      "C:\\Users\\LENOVO\\AppData\\Local\\Temp\\ipykernel_11820\\3373092752.py:1: FutureWarning: The default value of numeric_only in DataFrameGroupBy.sum is deprecated. In a future version, numeric_only will default to False. Either specify numeric_only or select only columns which should be valid for the function.\n",
      "  percentage_2020 = dfn_2020.groupby('Region').sum()\n"
     ]
    },
    {
     "data": {
      "text/html": [
       "<div>\n",
       "<style scoped>\n",
       "    .dataframe tbody tr th:only-of-type {\n",
       "        vertical-align: middle;\n",
       "    }\n",
       "\n",
       "    .dataframe tbody tr th {\n",
       "        vertical-align: top;\n",
       "    }\n",
       "\n",
       "    .dataframe thead th {\n",
       "        text-align: right;\n",
       "    }\n",
       "</style>\n",
       "<table border=\"1\" class=\"dataframe\">\n",
       "  <thead>\n",
       "    <tr style=\"text-align: right;\">\n",
       "      <th></th>\n",
       "      <th>Region</th>\n",
       "      <th>Retailer ID</th>\n",
       "      <th>Price per Unit</th>\n",
       "      <th>Units Sold</th>\n",
       "      <th>Total Sales</th>\n",
       "      <th>Operating Profit</th>\n",
       "      <th>percentages Sales</th>\n",
       "    </tr>\n",
       "  </thead>\n",
       "  <tbody>\n",
       "    <tr>\n",
       "      <th>0</th>\n",
       "      <td>Midwest</td>\n",
       "      <td>170778216</td>\n",
       "      <td>5957</td>\n",
       "      <td>20838</td>\n",
       "      <td>7378068</td>\n",
       "      <td>2670235</td>\n",
       "      <td>4.05</td>\n",
       "    </tr>\n",
       "    <tr>\n",
       "      <th>1</th>\n",
       "      <td>Northeast</td>\n",
       "      <td>273360084</td>\n",
       "      <td>11012</td>\n",
       "      <td>115011</td>\n",
       "      <td>40749709</td>\n",
       "      <td>14222804</td>\n",
       "      <td>22.38</td>\n",
       "    </tr>\n",
       "    <tr>\n",
       "      <th>2</th>\n",
       "      <td>South</td>\n",
       "      <td>257897112</td>\n",
       "      <td>8265</td>\n",
       "      <td>90322</td>\n",
       "      <td>25456882</td>\n",
       "      <td>9845140</td>\n",
       "      <td>13.98</td>\n",
       "    </tr>\n",
       "    <tr>\n",
       "      <th>3</th>\n",
       "      <td>Southeast</td>\n",
       "      <td>170745408</td>\n",
       "      <td>7317</td>\n",
       "      <td>73135</td>\n",
       "      <td>31600863</td>\n",
       "      <td>12168628</td>\n",
       "      <td>17.36</td>\n",
       "    </tr>\n",
       "    <tr>\n",
       "      <th>4</th>\n",
       "      <td>West</td>\n",
       "      <td>640204997</td>\n",
       "      <td>33369</td>\n",
       "      <td>163043</td>\n",
       "      <td>76895153</td>\n",
       "      <td>24468903</td>\n",
       "      <td>42.23</td>\n",
       "    </tr>\n",
       "  </tbody>\n",
       "</table>\n",
       "</div>"
      ],
      "text/plain": [
       "      Region  Retailer ID  Price per Unit  Units Sold  Total Sales  \\\n",
       "0    Midwest    170778216            5957       20838      7378068   \n",
       "1  Northeast    273360084           11012      115011     40749709   \n",
       "2      South    257897112            8265       90322     25456882   \n",
       "3  Southeast    170745408            7317       73135     31600863   \n",
       "4       West    640204997           33369      163043     76895153   \n",
       "\n",
       "   Operating Profit  percentages Sales  \n",
       "0           2670235               4.05  \n",
       "1          14222804              22.38  \n",
       "2           9845140              13.98  \n",
       "3          12168628              17.36  \n",
       "4          24468903              42.23  "
      ]
     },
     "execution_count": 98,
     "metadata": {},
     "output_type": "execute_result"
    }
   ],
   "source": [
    "percentage_2020 = dfn_2020.groupby('Region').sum()\n",
    "percentage_2020['percentages Sales']  = (percentage_2020['Total Sales'] / sum(dfn_2020['Total Sales'])) * 100\n",
    "percentage_2020['percentages Sales'] = percentage_2020['percentages Sales'].apply(lambda x: float('%.2f' %x))\n",
    "percentage_2020 = percentage_2020.reset_index()\n",
    "percentage_2020"
   ]
  },
  {
   "cell_type": "code",
   "execution_count": 99,
   "metadata": {},
   "outputs": [
    {
     "name": "stderr",
     "output_type": "stream",
     "text": [
      "C:\\Users\\LENOVO\\AppData\\Local\\Temp\\ipykernel_11820\\2395058785.py:1: FutureWarning: The default value of numeric_only in DataFrameGroupBy.sum is deprecated. In a future version, numeric_only will default to False. Either specify numeric_only or select only columns which should be valid for the function.\n",
      "  percentage_2021 = dfn_2021.groupby('Region').sum()\n"
     ]
    },
    {
     "data": {
      "text/html": [
       "<div>\n",
       "<style scoped>\n",
       "    .dataframe tbody tr th:only-of-type {\n",
       "        vertical-align: middle;\n",
       "    }\n",
       "\n",
       "    .dataframe tbody tr th {\n",
       "        vertical-align: top;\n",
       "    }\n",
       "\n",
       "    .dataframe thead th {\n",
       "        text-align: right;\n",
       "    }\n",
       "</style>\n",
       "<table border=\"1\" class=\"dataframe\">\n",
       "  <thead>\n",
       "    <tr style=\"text-align: right;\">\n",
       "      <th></th>\n",
       "      <th>Region</th>\n",
       "      <th>Retailer ID</th>\n",
       "      <th>Price per Unit</th>\n",
       "      <th>Units Sold</th>\n",
       "      <th>Total Sales</th>\n",
       "      <th>Operating Profit</th>\n",
       "      <th>percentages Sales</th>\n",
       "    </tr>\n",
       "  </thead>\n",
       "  <tbody>\n",
       "    <tr>\n",
       "      <th>0</th>\n",
       "      <td>Midwest</td>\n",
       "      <td>2051317482</td>\n",
       "      <td>69601</td>\n",
       "      <td>370499</td>\n",
       "      <td>128422391</td>\n",
       "      <td>50141177</td>\n",
       "      <td>17.89</td>\n",
       "    </tr>\n",
       "    <tr>\n",
       "      <th>1</th>\n",
       "      <td>Northeast</td>\n",
       "      <td>2542935676</td>\n",
       "      <td>99927</td>\n",
       "      <td>386268</td>\n",
       "      <td>145574358</td>\n",
       "      <td>53797884</td>\n",
       "      <td>20.28</td>\n",
       "    </tr>\n",
       "    <tr>\n",
       "      <th>2</th>\n",
       "      <td>South</td>\n",
       "      <td>1795256649</td>\n",
       "      <td>57808</td>\n",
       "      <td>401938</td>\n",
       "      <td>119206299</td>\n",
       "      <td>51292904</td>\n",
       "      <td>16.61</td>\n",
       "    </tr>\n",
       "    <tr>\n",
       "      <th>3</th>\n",
       "      <td>Southeast</td>\n",
       "      <td>1248026049</td>\n",
       "      <td>54107</td>\n",
       "      <td>333865</td>\n",
       "      <td>131570373</td>\n",
       "      <td>48386834</td>\n",
       "      <td>18.33</td>\n",
       "    </tr>\n",
       "    <tr>\n",
       "      <th>4</th>\n",
       "      <td>West</td>\n",
       "      <td>2174780460</td>\n",
       "      <td>88887</td>\n",
       "      <td>523942</td>\n",
       "      <td>193048029</td>\n",
       "      <td>65140613</td>\n",
       "      <td>26.89</td>\n",
       "    </tr>\n",
       "  </tbody>\n",
       "</table>\n",
       "</div>"
      ],
      "text/plain": [
       "      Region  Retailer ID  Price per Unit  Units Sold  Total Sales  \\\n",
       "0    Midwest   2051317482           69601      370499    128422391   \n",
       "1  Northeast   2542935676           99927      386268    145574358   \n",
       "2      South   1795256649           57808      401938    119206299   \n",
       "3  Southeast   1248026049           54107      333865    131570373   \n",
       "4       West   2174780460           88887      523942    193048029   \n",
       "\n",
       "   Operating Profit  percentages Sales  \n",
       "0          50141177              17.89  \n",
       "1          53797884              20.28  \n",
       "2          51292904              16.61  \n",
       "3          48386834              18.33  \n",
       "4          65140613              26.89  "
      ]
     },
     "execution_count": 99,
     "metadata": {},
     "output_type": "execute_result"
    }
   ],
   "source": [
    "percentage_2021 = dfn_2021.groupby('Region').sum()\n",
    "percentage_2021['percentages Sales']  = (percentage_2021['Total Sales'] / sum(dfn_2021['Total Sales'])) * 100\n",
    "percentage_2021['percentages Sales'] = percentage_2021['percentages Sales'].apply(lambda x: float('%.2f' %x))\n",
    "percentage_2021 = percentage_2021.reset_index()\n",
    "percentage_2021"
   ]
  },
  {
   "cell_type": "code",
   "execution_count": 100,
   "metadata": {},
   "outputs": [
    {
     "data": {
      "image/png": "[encoded data removed]",
      "text/plain": [
       "<Figure size 800x800 with 1 Axes>"
      ]
     },
     "metadata": {},
     "output_type": "display_data"
    }
   ],
   "source": [
    "plt.figure(figsize=(8,8))\n",
    "plt.pie(percentage_2020['percentages Sales'], labels=percentage_2020['Region'], autopct='%1.2f%%', explode=[0.05, 0.05, 0.05, 0.05, 0.05])\n",
    "plt.title('Tỉ lệ \"%\" doanh thu năm 2020 theo từng khu vực')\n",
    "plt.show()"
   ]
  },
  {
   "cell_type": "code",
   "execution_count": 101,
   "metadata": {},
   "outputs": [
    {
     "data": {
      "image/png": "[encoded data removed]",
      "text/plain": [
       "<Figure size 800x800 with 1 Axes>"
      ]
     },
     "metadata": {},
     "output_type": "display_data"
    }
   ],
   "source": [
    "plt.figure(figsize=(8,8))\n",
    "plt.pie(percentage_2021['percentages Sales'], labels=percentage_2021['Region'], autopct='%1.2f%%', explode=[0.05, 0.05, 0.05, 0.05, 0.05])\n",
    "plt.title('Tỉ lệ \"%\" doanh thu năm 2021 theo từng khu vực')\n",
    "plt.show()"
   ]
  },
  {
   "cell_type": "markdown",
   "metadata": {},
   "source": [
    "Next we will compare the revenue of each product in 2020 and 2021"
   ]
  },
  {
   "cell_type": "code",
   "execution_count": 102,
   "metadata": {},
   "outputs": [
    {
     "name": "stderr",
     "output_type": "stream",
     "text": [
      "C:\\Users\\LENOVO\\AppData\\Local\\Temp\\ipykernel_11820\\2831448348.py:1: FutureWarning: The default value of numeric_only in DataFrameGroupBy.sum is deprecated. In a future version, numeric_only will default to False. Either specify numeric_only or select only columns which should be valid for the function.\n",
      "  sale_by_product_20 = dfn_2020.groupby(dfn_2020['Product']).sum()\n"
     ]
    },
    {
     "data": {
      "text/html": [
       "<div>\n",
       "<style scoped>\n",
       "    .dataframe tbody tr th:only-of-type {\n",
       "        vertical-align: middle;\n",
       "    }\n",
       "\n",
       "    .dataframe tbody tr th {\n",
       "        vertical-align: top;\n",
       "    }\n",
       "\n",
       "    .dataframe thead th {\n",
       "        text-align: right;\n",
       "    }\n",
       "</style>\n",
       "<table border=\"1\" class=\"dataframe\">\n",
       "  <thead>\n",
       "    <tr style=\"text-align: right;\">\n",
       "      <th></th>\n",
       "      <th>Product</th>\n",
       "      <th>Retailer ID</th>\n",
       "      <th>Price per Unit</th>\n",
       "      <th>Units Sold</th>\n",
       "      <th>Total Sales</th>\n",
       "      <th>Operating Profit</th>\n",
       "    </tr>\n",
       "  </thead>\n",
       "  <tbody>\n",
       "    <tr>\n",
       "      <th>4</th>\n",
       "      <td>Women's Athletic Footwear</td>\n",
       "      <td>250990877</td>\n",
       "      <td>10203</td>\n",
       "      <td>64177</td>\n",
       "      <td>23629892</td>\n",
       "      <td>8290748</td>\n",
       "    </tr>\n",
       "    <tr>\n",
       "      <th>0</th>\n",
       "      <td>Men's Apparel</td>\n",
       "      <td>251040108</td>\n",
       "      <td>11825</td>\n",
       "      <td>61227</td>\n",
       "      <td>26216964</td>\n",
       "      <td>9660079</td>\n",
       "    </tr>\n",
       "    <tr>\n",
       "      <th>5</th>\n",
       "      <td>Women's Street Footwear</td>\n",
       "      <td>250990877</td>\n",
       "      <td>10138</td>\n",
       "      <td>75791</td>\n",
       "      <td>27426005</td>\n",
       "      <td>9203865</td>\n",
       "    </tr>\n",
       "    <tr>\n",
       "      <th>1</th>\n",
       "      <td>Men's Athletic Footwear</td>\n",
       "      <td>250990877</td>\n",
       "      <td>10793</td>\n",
       "      <td>81760</td>\n",
       "      <td>31794462</td>\n",
       "      <td>9359264</td>\n",
       "    </tr>\n",
       "    <tr>\n",
       "      <th>3</th>\n",
       "      <td>Women's Apparel</td>\n",
       "      <td>254597304</td>\n",
       "      <td>12502</td>\n",
       "      <td>80208</td>\n",
       "      <td>35190332</td>\n",
       "      <td>11302907</td>\n",
       "    </tr>\n",
       "    <tr>\n",
       "      <th>2</th>\n",
       "      <td>Men's Street Footwear</td>\n",
       "      <td>254375774</td>\n",
       "      <td>10459</td>\n",
       "      <td>99186</td>\n",
       "      <td>37823020</td>\n",
       "      <td>15558847</td>\n",
       "    </tr>\n",
       "  </tbody>\n",
       "</table>\n",
       "</div>"
      ],
      "text/plain": [
       "                     Product  Retailer ID  Price per Unit  Units Sold  \\\n",
       "4  Women's Athletic Footwear    250990877           10203       64177   \n",
       "0              Men's Apparel    251040108           11825       61227   \n",
       "5    Women's Street Footwear    250990877           10138       75791   \n",
       "1    Men's Athletic Footwear    250990877           10793       81760   \n",
       "3            Women's Apparel    254597304           12502       80208   \n",
       "2      Men's Street Footwear    254375774           10459       99186   \n",
       "\n",
       "   Total Sales  Operating Profit  \n",
       "4     23629892           8290748  \n",
       "0     26216964           9660079  \n",
       "5     27426005           9203865  \n",
       "1     31794462           9359264  \n",
       "3     35190332          11302907  \n",
       "2     37823020          15558847  "
      ]
     },
     "execution_count": 102,
     "metadata": {},
     "output_type": "execute_result"
    }
   ],
   "source": [
    "sale_by_product_20 = dfn_2020.groupby(dfn_2020['Product']).sum()\n",
    "sale_by_product_20 = sale_by_product_20.reset_index()\n",
    "sale_by_product_20 = sale_by_product_20.sort_values('Total Sales')\n",
    "sale_by_product_20"
   ]
  },
  {
   "cell_type": "code",
   "execution_count": 103,
   "metadata": {},
   "outputs": [
    {
     "data": {
      "image/png": "[encoded data removed]",
      "text/plain": [
       "<Figure size 640x480 with 1 Axes>"
      ]
     },
     "metadata": {},
     "output_type": "display_data"
    }
   ],
   "source": [
    "colors = ['r' if (bar == max(sale_by_product_20['Total Sales'])) else 'grey' for bar in sale_by_product_20['Total Sales']]\n",
    "plt.barh(sale_by_product_20['Product'], sale_by_product_20['Total Sales'], color=colors)\n",
    "plt.ticklabel_format(axis='x', style='plain')\n",
    "plt.title('Total Sales by Prodcut 2020')\n",
    "plt.xticks(rotation=90)\n",
    "plt.show()"
   ]
  },
  {
   "cell_type": "code",
   "execution_count": 104,
   "metadata": {},
   "outputs": [
    {
     "name": "stderr",
     "output_type": "stream",
     "text": [
      "C:\\Users\\LENOVO\\AppData\\Local\\Temp\\ipykernel_11820\\3357836910.py:1: FutureWarning: The default value of numeric_only in DataFrameGroupBy.sum is deprecated. In a future version, numeric_only will default to False. Either specify numeric_only or select only columns which should be valid for the function.\n",
      "  sale_by_product_21 = dfn_2021.groupby(dfn_2021['Product']).sum()\n"
     ]
    },
    {
     "data": {
      "text/html": [
       "<div>\n",
       "<style scoped>\n",
       "    .dataframe tbody tr th:only-of-type {\n",
       "        vertical-align: middle;\n",
       "    }\n",
       "\n",
       "    .dataframe tbody tr th {\n",
       "        vertical-align: top;\n",
       "    }\n",
       "\n",
       "    .dataframe thead th {\n",
       "        text-align: right;\n",
       "    }\n",
       "</style>\n",
       "<table border=\"1\" class=\"dataframe\">\n",
       "  <thead>\n",
       "    <tr style=\"text-align: right;\">\n",
       "      <th></th>\n",
       "      <th>Product</th>\n",
       "      <th>Retailer ID</th>\n",
       "      <th>Price per Unit</th>\n",
       "      <th>Units Sold</th>\n",
       "      <th>Total Sales</th>\n",
       "      <th>Operating Profit</th>\n",
       "    </tr>\n",
       "  </thead>\n",
       "  <tbody>\n",
       "    <tr>\n",
       "      <th>4</th>\n",
       "      <td>Women's Athletic Footwear</td>\n",
       "      <td>1634055000</td>\n",
       "      <td>55824</td>\n",
       "      <td>253059</td>\n",
       "      <td>83002004</td>\n",
       "      <td>30685095</td>\n",
       "    </tr>\n",
       "    <tr>\n",
       "      <th>0</th>\n",
       "      <td>Men's Apparel</td>\n",
       "      <td>1634214365</td>\n",
       "      <td>68992</td>\n",
       "      <td>245456</td>\n",
       "      <td>97511668</td>\n",
       "      <td>35103020</td>\n",
       "    </tr>\n",
       "    <tr>\n",
       "      <th>5</th>\n",
       "      <td>Women's Street Footwear</td>\n",
       "      <td>1636553429</td>\n",
       "      <td>54588</td>\n",
       "      <td>316478</td>\n",
       "      <td>100576808</td>\n",
       "      <td>35892032</td>\n",
       "    </tr>\n",
       "    <tr>\n",
       "      <th>1</th>\n",
       "      <td>Men's Athletic Footwear</td>\n",
       "      <td>1638924893</td>\n",
       "      <td>59692</td>\n",
       "      <td>353766</td>\n",
       "      <td>121879218</td>\n",
       "      <td>42487700</td>\n",
       "    </tr>\n",
       "    <tr>\n",
       "      <th>3</th>\n",
       "      <td>Women's Apparel</td>\n",
       "      <td>1633028633</td>\n",
       "      <td>70472</td>\n",
       "      <td>353619</td>\n",
       "      <td>143848528</td>\n",
       "      <td>57348089</td>\n",
       "    </tr>\n",
       "    <tr>\n",
       "      <th>2</th>\n",
       "      <td>Men's Street Footwear</td>\n",
       "      <td>1635539996</td>\n",
       "      <td>60762</td>\n",
       "      <td>494134</td>\n",
       "      <td>171003224</td>\n",
       "      <td>67243476</td>\n",
       "    </tr>\n",
       "  </tbody>\n",
       "</table>\n",
       "</div>"
      ],
      "text/plain": [
       "                     Product  Retailer ID  Price per Unit  Units Sold  \\\n",
       "4  Women's Athletic Footwear   1634055000           55824      253059   \n",
       "0              Men's Apparel   1634214365           68992      245456   \n",
       "5    Women's Street Footwear   1636553429           54588      316478   \n",
       "1    Men's Athletic Footwear   1638924893           59692      353766   \n",
       "3            Women's Apparel   1633028633           70472      353619   \n",
       "2      Men's Street Footwear   1635539996           60762      494134   \n",
       "\n",
       "   Total Sales  Operating Profit  \n",
       "4     83002004          30685095  \n",
       "0     97511668          35103020  \n",
       "5    100576808          35892032  \n",
       "1    121879218          42487700  \n",
       "3    143848528          57348089  \n",
       "2    171003224          67243476  "
      ]
     },
     "execution_count": 104,
     "metadata": {},
     "output_type": "execute_result"
    }
   ],
   "source": [
    "sale_by_product_21 = dfn_2021.groupby(dfn_2021['Product']).sum()\n",
    "sale_by_product_21 = sale_by_product_21.reset_index()\n",
    "sale_by_product_21 = sale_by_product_21.sort_values('Total Sales')\n",
    "sale_by_product_21"
   ]
  },
  {
   "cell_type": "code",
   "execution_count": 105,
   "metadata": {},
   "outputs": [
    {
     "data": {
      "image/png": "[encoded data removed]",
      "text/plain": [
       "<Figure size 640x480 with 1 Axes>"
      ]
     },
     "metadata": {},
     "output_type": "display_data"
    }
   ],
   "source": [
    "colors = ['r' if (bar == max(sale_by_product_21['Total Sales'])) else 'green' for bar in sale_by_product_21['Total Sales']]\n",
    "plt.barh(sale_by_product_21['Product'], sale_by_product_21['Total Sales'], color=colors)\n",
    "plt.ticklabel_format(axis='x', style='plain')\n",
    "plt.title('Total Sales by Prodcut 2021')\n",
    "plt.xticks(rotation=90)\n",
    "plt.show()"
   ]
  },
  {
   "cell_type": "markdown",
   "metadata": {},
   "source": [
    "Next we will compare the revenue of each method in 2020 and 2021"
   ]
  },
  {
   "cell_type": "code",
   "execution_count": 106,
   "metadata": {},
   "outputs": [
    {
     "name": "stderr",
     "output_type": "stream",
     "text": [
      "C:\\Users\\LENOVO\\AppData\\Local\\Temp\\ipykernel_11820\\1261013624.py:1: FutureWarning: The default value of numeric_only in DataFrameGroupBy.sum is deprecated. In a future version, numeric_only will default to False. Either specify numeric_only or select only columns which should be valid for the function.\n",
      "  percentage_of_revenued_by_method = dfn_2020.groupby('Sales Method').sum()\n"
     ]
    },
    {
     "data": {
      "text/html": [
       "<div>\n",
       "<style scoped>\n",
       "    .dataframe tbody tr th:only-of-type {\n",
       "        vertical-align: middle;\n",
       "    }\n",
       "\n",
       "    .dataframe tbody tr th {\n",
       "        vertical-align: top;\n",
       "    }\n",
       "\n",
       "    .dataframe thead th {\n",
       "        text-align: right;\n",
       "    }\n",
       "</style>\n",
       "<table border=\"1\" class=\"dataframe\">\n",
       "  <thead>\n",
       "    <tr style=\"text-align: right;\">\n",
       "      <th></th>\n",
       "      <th>Retailer ID</th>\n",
       "      <th>Price per Unit</th>\n",
       "      <th>Units Sold</th>\n",
       "      <th>Total Sales</th>\n",
       "      <th>Operating Profit</th>\n",
       "    </tr>\n",
       "    <tr>\n",
       "      <th>Sales Method</th>\n",
       "      <th></th>\n",
       "      <th></th>\n",
       "      <th></th>\n",
       "      <th></th>\n",
       "      <th></th>\n",
       "    </tr>\n",
       "  </thead>\n",
       "  <tbody>\n",
       "    <tr>\n",
       "      <th>In-store</th>\n",
       "      <td>330082010</td>\n",
       "      <td>17045</td>\n",
       "      <td>156575</td>\n",
       "      <td>93903000</td>\n",
       "      <td>31595571</td>\n",
       "    </tr>\n",
       "    <tr>\n",
       "      <th>Online</th>\n",
       "      <td>615484139</td>\n",
       "      <td>27432</td>\n",
       "      <td>87085</td>\n",
       "      <td>4519966</td>\n",
       "      <td>2116498</td>\n",
       "    </tr>\n",
       "    <tr>\n",
       "      <th>Outlet</th>\n",
       "      <td>567419668</td>\n",
       "      <td>21443</td>\n",
       "      <td>218689</td>\n",
       "      <td>83657709</td>\n",
       "      <td>29663641</td>\n",
       "    </tr>\n",
       "  </tbody>\n",
       "</table>\n",
       "</div>"
      ],
      "text/plain": [
       "              Retailer ID  Price per Unit  Units Sold  Total Sales  \\\n",
       "Sales Method                                                         \n",
       "In-store        330082010           17045      156575     93903000   \n",
       "Online          615484139           27432       87085      4519966   \n",
       "Outlet          567419668           21443      218689     83657709   \n",
       "\n",
       "              Operating Profit  \n",
       "Sales Method                    \n",
       "In-store              31595571  \n",
       "Online                 2116498  \n",
       "Outlet                29663641  "
      ]
     },
     "execution_count": 106,
     "metadata": {},
     "output_type": "execute_result"
    }
   ],
   "source": [
    "percentage_of_revenued_by_method = dfn_2020.groupby('Sales Method').sum()\n",
    "percentage_of_revenued_by_method"
   ]
  },
  {
   "cell_type": "code",
   "execution_count": 107,
   "metadata": {},
   "outputs": [
    {
     "data": {
      "text/html": [
       "<div>\n",
       "<style scoped>\n",
       "    .dataframe tbody tr th:only-of-type {\n",
       "        vertical-align: middle;\n",
       "    }\n",
       "\n",
       "    .dataframe tbody tr th {\n",
       "        vertical-align: top;\n",
       "    }\n",
       "\n",
       "    .dataframe thead th {\n",
       "        text-align: right;\n",
       "    }\n",
       "</style>\n",
       "<table border=\"1\" class=\"dataframe\">\n",
       "  <thead>\n",
       "    <tr style=\"text-align: right;\">\n",
       "      <th></th>\n",
       "      <th>Sales Method</th>\n",
       "      <th>Retailer ID</th>\n",
       "      <th>Price per Unit</th>\n",
       "      <th>Units Sold</th>\n",
       "      <th>Total Sales</th>\n",
       "      <th>Operating Profit</th>\n",
       "      <th>percentages Methods</th>\n",
       "    </tr>\n",
       "  </thead>\n",
       "  <tbody>\n",
       "    <tr>\n",
       "      <th>0</th>\n",
       "      <td>In-store</td>\n",
       "      <td>330082010</td>\n",
       "      <td>17045</td>\n",
       "      <td>156575</td>\n",
       "      <td>93903000</td>\n",
       "      <td>31595571</td>\n",
       "      <td>51.57</td>\n",
       "    </tr>\n",
       "    <tr>\n",
       "      <th>1</th>\n",
       "      <td>Online</td>\n",
       "      <td>615484139</td>\n",
       "      <td>27432</td>\n",
       "      <td>87085</td>\n",
       "      <td>4519966</td>\n",
       "      <td>2116498</td>\n",
       "      <td>2.48</td>\n",
       "    </tr>\n",
       "    <tr>\n",
       "      <th>2</th>\n",
       "      <td>Outlet</td>\n",
       "      <td>567419668</td>\n",
       "      <td>21443</td>\n",
       "      <td>218689</td>\n",
       "      <td>83657709</td>\n",
       "      <td>29663641</td>\n",
       "      <td>45.95</td>\n",
       "    </tr>\n",
       "  </tbody>\n",
       "</table>\n",
       "</div>"
      ],
      "text/plain": [
       "  Sales Method  Retailer ID  Price per Unit  Units Sold  Total Sales  \\\n",
       "0     In-store    330082010           17045      156575     93903000   \n",
       "1       Online    615484139           27432       87085      4519966   \n",
       "2       Outlet    567419668           21443      218689     83657709   \n",
       "\n",
       "   Operating Profit  percentages Methods  \n",
       "0          31595571                51.57  \n",
       "1           2116498                 2.48  \n",
       "2          29663641                45.95  "
      ]
     },
     "execution_count": 107,
     "metadata": {},
     "output_type": "execute_result"
    }
   ],
   "source": [
    "percentage_of_revenued_by_method['percentages Methods']  = (percentage_of_revenued_by_method['Total Sales'] / sum(dfn_2020['Total Sales'])) * 100\n",
    "percentage_of_revenued_by_method['percentages Methods'] = percentage_of_revenued_by_method['percentages Methods'].apply(lambda x: float('%.2f' %x))\n",
    "percentage_of_revenued_by_method = percentage_of_revenued_by_method.reset_index()\n",
    "percentage_of_revenued_by_method"
   ]
  },
  {
   "cell_type": "code",
   "execution_count": 108,
   "metadata": {},
   "outputs": [
    {
     "data": {
      "image/png": "[encoded data removed]",
      "text/plain": [
       "<Figure size 800x800 with 1 Axes>"
      ]
     },
     "metadata": {},
     "output_type": "display_data"
    }
   ],
   "source": [
    "plt.figure(figsize=(8,8))\n",
    "plt.pie(percentage_of_revenued_by_method['percentages Methods'], labels=percentage_of_revenued_by_method['Sales Method'], autopct='%1.2f%%', explode=[0.05, 0.05, 0.05])\n",
    "plt.title('Tỉ lệ \"%\" doanh thu năm 2020 theo từng Phương Thức Mua Hàng')\n",
    "plt.show()"
   ]
  },
  {
   "cell_type": "code",
   "execution_count": 109,
   "metadata": {},
   "outputs": [
    {
     "name": "stderr",
     "output_type": "stream",
     "text": [
      "C:\\Users\\LENOVO\\AppData\\Local\\Temp\\ipykernel_11820\\1217620667.py:1: FutureWarning: The default value of numeric_only in DataFrameGroupBy.sum is deprecated. In a future version, numeric_only will default to False. Either specify numeric_only or select only columns which should be valid for the function.\n",
      "  percentage_of_revenued_by_method_21 = dfn_2021.groupby('Sales Method').sum()\n"
     ]
    },
    {
     "data": {
      "text/html": [
       "<div>\n",
       "<style scoped>\n",
       "    .dataframe tbody tr th:only-of-type {\n",
       "        vertical-align: middle;\n",
       "    }\n",
       "\n",
       "    .dataframe tbody tr th {\n",
       "        vertical-align: top;\n",
       "    }\n",
       "\n",
       "    .dataframe thead th {\n",
       "        text-align: right;\n",
       "    }\n",
       "</style>\n",
       "<table border=\"1\" class=\"dataframe\">\n",
       "  <thead>\n",
       "    <tr style=\"text-align: right;\">\n",
       "      <th></th>\n",
       "      <th>Retailer ID</th>\n",
       "      <th>Price per Unit</th>\n",
       "      <th>Units Sold</th>\n",
       "      <th>Total Sales</th>\n",
       "      <th>Operating Profit</th>\n",
       "    </tr>\n",
       "    <tr>\n",
       "      <th>Sales Method</th>\n",
       "      <th></th>\n",
       "      <th></th>\n",
       "      <th></th>\n",
       "      <th></th>\n",
       "      <th></th>\n",
       "    </tr>\n",
       "  </thead>\n",
       "  <tbody>\n",
       "    <tr>\n",
       "      <th>In-store</th>\n",
       "      <td>1710577934</td>\n",
       "      <td>67895</td>\n",
       "      <td>533415</td>\n",
       "      <td>262740750</td>\n",
       "      <td>95995811</td>\n",
       "    </tr>\n",
       "    <tr>\n",
       "      <th>Online</th>\n",
       "      <td>5127876698</td>\n",
       "      <td>196989</td>\n",
       "      <td>852008</td>\n",
       "      <td>243152916</td>\n",
       "      <td>94438839</td>\n",
       "    </tr>\n",
       "    <tr>\n",
       "      <th>Outlet</th>\n",
       "      <td>2973861684</td>\n",
       "      <td>105446</td>\n",
       "      <td>631089</td>\n",
       "      <td>211927784</td>\n",
       "      <td>78324762</td>\n",
       "    </tr>\n",
       "  </tbody>\n",
       "</table>\n",
       "</div>"
      ],
      "text/plain": [
       "              Retailer ID  Price per Unit  Units Sold  Total Sales  \\\n",
       "Sales Method                                                         \n",
       "In-store       1710577934           67895      533415    262740750   \n",
       "Online         5127876698          196989      852008    243152916   \n",
       "Outlet         2973861684          105446      631089    211927784   \n",
       "\n",
       "              Operating Profit  \n",
       "Sales Method                    \n",
       "In-store              95995811  \n",
       "Online                94438839  \n",
       "Outlet                78324762  "
      ]
     },
     "execution_count": 109,
     "metadata": {},
     "output_type": "execute_result"
    }
   ],
   "source": [
    "percentage_of_revenued_by_method_21 = dfn_2021.groupby('Sales Method').sum()\n",
    "percentage_of_revenued_by_method_21"
   ]
  },
  {
   "cell_type": "code",
   "execution_count": 110,
   "metadata": {},
   "outputs": [
    {
     "data": {
      "text/html": [
       "<div>\n",
       "<style scoped>\n",
       "    .dataframe tbody tr th:only-of-type {\n",
       "        vertical-align: middle;\n",
       "    }\n",
       "\n",
       "    .dataframe tbody tr th {\n",
       "        vertical-align: top;\n",
       "    }\n",
       "\n",
       "    .dataframe thead th {\n",
       "        text-align: right;\n",
       "    }\n",
       "</style>\n",
       "<table border=\"1\" class=\"dataframe\">\n",
       "  <thead>\n",
       "    <tr style=\"text-align: right;\">\n",
       "      <th></th>\n",
       "      <th>Sales Method</th>\n",
       "      <th>Retailer ID</th>\n",
       "      <th>Price per Unit</th>\n",
       "      <th>Units Sold</th>\n",
       "      <th>Total Sales</th>\n",
       "      <th>Operating Profit</th>\n",
       "      <th>Percentages Methods</th>\n",
       "    </tr>\n",
       "  </thead>\n",
       "  <tbody>\n",
       "    <tr>\n",
       "      <th>0</th>\n",
       "      <td>In-store</td>\n",
       "      <td>1710577934</td>\n",
       "      <td>67895</td>\n",
       "      <td>533415</td>\n",
       "      <td>262740750</td>\n",
       "      <td>95995811</td>\n",
       "      <td>36.60</td>\n",
       "    </tr>\n",
       "    <tr>\n",
       "      <th>1</th>\n",
       "      <td>Online</td>\n",
       "      <td>5127876698</td>\n",
       "      <td>196989</td>\n",
       "      <td>852008</td>\n",
       "      <td>243152916</td>\n",
       "      <td>94438839</td>\n",
       "      <td>33.87</td>\n",
       "    </tr>\n",
       "    <tr>\n",
       "      <th>2</th>\n",
       "      <td>Outlet</td>\n",
       "      <td>2973861684</td>\n",
       "      <td>105446</td>\n",
       "      <td>631089</td>\n",
       "      <td>211927784</td>\n",
       "      <td>78324762</td>\n",
       "      <td>29.52</td>\n",
       "    </tr>\n",
       "  </tbody>\n",
       "</table>\n",
       "</div>"
      ],
      "text/plain": [
       "  Sales Method  Retailer ID  Price per Unit  Units Sold  Total Sales  \\\n",
       "0     In-store   1710577934           67895      533415    262740750   \n",
       "1       Online   5127876698          196989      852008    243152916   \n",
       "2       Outlet   2973861684          105446      631089    211927784   \n",
       "\n",
       "   Operating Profit  Percentages Methods  \n",
       "0          95995811                36.60  \n",
       "1          94438839                33.87  \n",
       "2          78324762                29.52  "
      ]
     },
     "execution_count": 110,
     "metadata": {},
     "output_type": "execute_result"
    }
   ],
   "source": [
    "percentage_of_revenued_by_method_21['Percentages Methods']  = (percentage_of_revenued_by_method_21['Total Sales'] / sum(dfn_2021['Total Sales'])) * 100\n",
    "percentage_of_revenued_by_method_21['Percentages Methods'] = percentage_of_revenued_by_method_21['Percentages Methods'].apply(lambda x: float('%.2f' %x))\n",
    "percentage_of_revenued_by_method_21 = percentage_of_revenued_by_method_21.reset_index()\n",
    "percentage_of_revenued_by_method_21"
   ]
  },
  {
   "cell_type": "code",
   "execution_count": 111,
   "metadata": {},
   "outputs": [
    {
     "data": {
      "image/png": "[encoded data removed]",
      "text/plain": [
       "<Figure size 800x800 with 1 Axes>"
      ]
     },
     "metadata": {},
     "output_type": "display_data"
    }
   ],
   "source": [
    "plt.figure(figsize=(8,8))\n",
    "plt.pie(percentage_of_revenued_by_method_21['Percentages Methods'], labels=percentage_of_revenued_by_method_21['Sales Method'], autopct='%1.2f%%', explode=[0.05, 0.05, 0.05])\n",
    "plt.title('Tỉ lệ \"%\" doanh thu năm 2021 theo từng Phương Thức Mua Hàng')\n",
    "plt.show()"
   ]
  },
  {
   "cell_type": "markdown",
   "metadata": {},
   "source": [
    "In this part, we will apply the machine learning model, in particular we will use the Linear Regression model to make predictions"
   ]
  },
  {
   "cell_type": "code",
   "execution_count": 112,
   "metadata": {},
   "outputs": [
    {
     "name": "stderr",
     "output_type": "stream",
     "text": [
      "C:\\Users\\LENOVO\\AppData\\Local\\Temp\\ipykernel_11820\\4005644809.py:1: FutureWarning: The default value of numeric_only in DataFrame.corr is deprecated. In a future version, it will default to False. Select only valid columns or specify the value of numeric_only to silence this warning.\n",
      "  dfn.corr()\n"
     ]
    },
    {
     "data": {
      "text/html": [
       "<div>\n",
       "<style scoped>\n",
       "    .dataframe tbody tr th:only-of-type {\n",
       "        vertical-align: middle;\n",
       "    }\n",
       "\n",
       "    .dataframe tbody tr th {\n",
       "        vertical-align: top;\n",
       "    }\n",
       "\n",
       "    .dataframe thead th {\n",
       "        text-align: right;\n",
       "    }\n",
       "</style>\n",
       "<table border=\"1\" class=\"dataframe\">\n",
       "  <thead>\n",
       "    <tr style=\"text-align: right;\">\n",
       "      <th></th>\n",
       "      <th>Retailer ID</th>\n",
       "      <th>Price per Unit</th>\n",
       "      <th>Units Sold</th>\n",
       "      <th>Total Sales</th>\n",
       "      <th>Operating Profit</th>\n",
       "    </tr>\n",
       "  </thead>\n",
       "  <tbody>\n",
       "    <tr>\n",
       "      <th>Retailer ID</th>\n",
       "      <td>1.000000</td>\n",
       "      <td>-0.391684</td>\n",
       "      <td>-0.003194</td>\n",
       "      <td>-0.083580</td>\n",
       "      <td>-0.027137</td>\n",
       "    </tr>\n",
       "    <tr>\n",
       "      <th>Price per Unit</th>\n",
       "      <td>-0.391684</td>\n",
       "      <td>1.000000</td>\n",
       "      <td>0.265869</td>\n",
       "      <td>0.435811</td>\n",
       "      <td>0.394546</td>\n",
       "    </tr>\n",
       "    <tr>\n",
       "      <th>Units Sold</th>\n",
       "      <td>-0.003194</td>\n",
       "      <td>0.265869</td>\n",
       "      <td>1.000000</td>\n",
       "      <td>0.913431</td>\n",
       "      <td>0.892379</td>\n",
       "    </tr>\n",
       "    <tr>\n",
       "      <th>Total Sales</th>\n",
       "      <td>-0.083580</td>\n",
       "      <td>0.435811</td>\n",
       "      <td>0.913431</td>\n",
       "      <td>1.000000</td>\n",
       "      <td>0.956307</td>\n",
       "    </tr>\n",
       "    <tr>\n",
       "      <th>Operating Profit</th>\n",
       "      <td>-0.027137</td>\n",
       "      <td>0.394546</td>\n",
       "      <td>0.892379</td>\n",
       "      <td>0.956307</td>\n",
       "      <td>1.000000</td>\n",
       "    </tr>\n",
       "  </tbody>\n",
       "</table>\n",
       "</div>"
      ],
      "text/plain": [
       "                  Retailer ID  Price per Unit  Units Sold  Total Sales  \\\n",
       "Retailer ID          1.000000       -0.391684   -0.003194    -0.083580   \n",
       "Price per Unit      -0.391684        1.000000    0.265869     0.435811   \n",
       "Units Sold          -0.003194        0.265869    1.000000     0.913431   \n",
       "Total Sales         -0.083580        0.435811    0.913431     1.000000   \n",
       "Operating Profit    -0.027137        0.394546    0.892379     0.956307   \n",
       "\n",
       "                  Operating Profit  \n",
       "Retailer ID              -0.027137  \n",
       "Price per Unit            0.394546  \n",
       "Units Sold                0.892379  \n",
       "Total Sales               0.956307  \n",
       "Operating Profit          1.000000  "
      ]
     },
     "execution_count": 112,
     "metadata": {},
     "output_type": "execute_result"
    }
   ],
   "source": [
    "dfn.corr()"
   ]
  },
  {
   "cell_type": "code",
   "execution_count": 113,
   "metadata": {},
   "outputs": [
    {
     "name": "stderr",
     "output_type": "stream",
     "text": [
      "C:\\Users\\LENOVO\\AppData\\Local\\Temp\\ipykernel_11820\\888819177.py:2: FutureWarning: The default value of numeric_only in DataFrame.corr is deprecated. In a future version, it will default to False. Select only valid columns or specify the value of numeric_only to silence this warning.\n",
      "  sns.heatmap(dfn.corr(), annot=True, cmap=plt.cm.Reds)\n"
     ]
    },
    {
     "data": {
      "image/png": "[encoded data removed]",
      "text/plain": [
       "<Figure size 800x800 with 2 Axes>"
      ]
     },
     "metadata": {},
     "output_type": "display_data"
    }
   ],
   "source": [
    "plt.figure(figsize=(8,8))\n",
    "sns.heatmap(dfn.corr(), annot=True, cmap=plt.cm.Reds)\n",
    "plt.show()"
   ]
  },
  {
   "cell_type": "code",
   "execution_count": 116,
   "metadata": {},
   "outputs": [
    {
     "data": {
      "text/html": [
       "<div>\n",
       "<style scoped>\n",
       "    .dataframe tbody tr th:only-of-type {\n",
       "        vertical-align: middle;\n",
       "    }\n",
       "\n",
       "    .dataframe tbody tr th {\n",
       "        vertical-align: top;\n",
       "    }\n",
       "\n",
       "    .dataframe thead th {\n",
       "        text-align: right;\n",
       "    }\n",
       "</style>\n",
       "<table border=\"1\" class=\"dataframe\">\n",
       "  <thead>\n",
       "    <tr style=\"text-align: right;\">\n",
       "      <th></th>\n",
       "      <th>Retailer</th>\n",
       "      <th>Retailer ID</th>\n",
       "      <th>Invoice Date</th>\n",
       "      <th>Location Key</th>\n",
       "      <th>Product</th>\n",
       "      <th>Price per Unit</th>\n",
       "      <th>Units Sold</th>\n",
       "      <th>Total Sales</th>\n",
       "      <th>Operating Profit</th>\n",
       "      <th>Operating Margin</th>\n",
       "      <th>Sales Method</th>\n",
       "      <th>Region</th>\n",
       "      <th>State</th>\n",
       "      <th>City</th>\n",
       "    </tr>\n",
       "  </thead>\n",
       "  <tbody>\n",
       "    <tr>\n",
       "      <th>0</th>\n",
       "      <td>Foot Locker</td>\n",
       "      <td>1185732</td>\n",
       "      <td>2020-01-01</td>\n",
       "      <td>New York-New York</td>\n",
       "      <td>Men's Street Footwear</td>\n",
       "      <td>50</td>\n",
       "      <td>1200</td>\n",
       "      <td>600000</td>\n",
       "      <td>300000</td>\n",
       "      <td>50%</td>\n",
       "      <td>In-store</td>\n",
       "      <td>Northeast</td>\n",
       "      <td>New York</td>\n",
       "      <td>New York</td>\n",
       "    </tr>\n",
       "    <tr>\n",
       "      <th>1</th>\n",
       "      <td>Foot Locker</td>\n",
       "      <td>1185732</td>\n",
       "      <td>2020-01-02</td>\n",
       "      <td>New York-New York</td>\n",
       "      <td>Men's Athletic Footwear</td>\n",
       "      <td>50</td>\n",
       "      <td>1000</td>\n",
       "      <td>500000</td>\n",
       "      <td>150000</td>\n",
       "      <td>30%</td>\n",
       "      <td>In-store</td>\n",
       "      <td>Northeast</td>\n",
       "      <td>New York</td>\n",
       "      <td>New York</td>\n",
       "    </tr>\n",
       "    <tr>\n",
       "      <th>2</th>\n",
       "      <td>Foot Locker</td>\n",
       "      <td>1185732</td>\n",
       "      <td>2020-01-03</td>\n",
       "      <td>New York-New York</td>\n",
       "      <td>Women's Street Footwear</td>\n",
       "      <td>40</td>\n",
       "      <td>1000</td>\n",
       "      <td>400000</td>\n",
       "      <td>140000</td>\n",
       "      <td>35%</td>\n",
       "      <td>In-store</td>\n",
       "      <td>Northeast</td>\n",
       "      <td>New York</td>\n",
       "      <td>New York</td>\n",
       "    </tr>\n",
       "    <tr>\n",
       "      <th>3</th>\n",
       "      <td>Foot Locker</td>\n",
       "      <td>1185732</td>\n",
       "      <td>2020-01-04</td>\n",
       "      <td>New York-New York</td>\n",
       "      <td>Women's Athletic Footwear</td>\n",
       "      <td>45</td>\n",
       "      <td>850</td>\n",
       "      <td>382500</td>\n",
       "      <td>133875</td>\n",
       "      <td>35%</td>\n",
       "      <td>In-store</td>\n",
       "      <td>Northeast</td>\n",
       "      <td>New York</td>\n",
       "      <td>New York</td>\n",
       "    </tr>\n",
       "    <tr>\n",
       "      <th>4</th>\n",
       "      <td>Foot Locker</td>\n",
       "      <td>1185732</td>\n",
       "      <td>2020-01-05</td>\n",
       "      <td>New York-New York</td>\n",
       "      <td>Men's Apparel</td>\n",
       "      <td>60</td>\n",
       "      <td>900</td>\n",
       "      <td>540000</td>\n",
       "      <td>162000</td>\n",
       "      <td>30%</td>\n",
       "      <td>In-store</td>\n",
       "      <td>Northeast</td>\n",
       "      <td>New York</td>\n",
       "      <td>New York</td>\n",
       "    </tr>\n",
       "  </tbody>\n",
       "</table>\n",
       "</div>"
      ],
      "text/plain": [
       "      Retailer  Retailer ID Invoice Date       Location Key  \\\n",
       "0  Foot Locker      1185732   2020-01-01  New York-New York   \n",
       "1  Foot Locker      1185732   2020-01-02  New York-New York   \n",
       "2  Foot Locker      1185732   2020-01-03  New York-New York   \n",
       "3  Foot Locker      1185732   2020-01-04  New York-New York   \n",
       "4  Foot Locker      1185732   2020-01-05  New York-New York   \n",
       "\n",
       "                     Product  Price per Unit  Units Sold  Total Sales  \\\n",
       "0      Men's Street Footwear              50        1200       600000   \n",
       "1    Men's Athletic Footwear              50        1000       500000   \n",
       "2    Women's Street Footwear              40        1000       400000   \n",
       "3  Women's Athletic Footwear              45         850       382500   \n",
       "4              Men's Apparel              60         900       540000   \n",
       "\n",
       "   Operating Profit Operating Margin Sales Method     Region     State  \\\n",
       "0            300000              50%     In-store  Northeast  New York   \n",
       "1            150000              30%     In-store  Northeast  New York   \n",
       "2            140000              35%     In-store  Northeast  New York   \n",
       "3            133875              35%     In-store  Northeast  New York   \n",
       "4            162000              30%     In-store  Northeast  New York   \n",
       "\n",
       "       City  \n",
       "0  New York  \n",
       "1  New York  \n",
       "2  New York  \n",
       "3  New York  \n",
       "4  New York  "
      ]
     },
     "execution_count": 116,
     "metadata": {},
     "output_type": "execute_result"
    }
   ],
   "source": [
    "dfn.head()"
   ]
  },
  {
   "cell_type": "code",
   "execution_count": 117,
   "metadata": {},
   "outputs": [],
   "source": [
    "Y = dfn['Price per Unit']\n",
    "X = dfn[['Retailer', 'Product', 'Units Sold', 'Sales Method', 'Region']]"
   ]
  },
  {
   "cell_type": "code",
   "execution_count": 118,
   "metadata": {},
   "outputs": [
    {
     "name": "stderr",
     "output_type": "stream",
     "text": [
      "C:\\Users\\LENOVO\\AppData\\Local\\Temp\\ipykernel_11820\\97333637.py:2: SettingWithCopyWarning: \n",
      "A value is trying to be set on a copy of a slice from a DataFrame.\n",
      "Try using .loc[row_indexer,col_indexer] = value instead\n",
      "\n",
      "See the caveats in the documentation: https://pandas.pydata.org/pandas-docs/stable/user_guide/indexing.html#returning-a-view-versus-a-copy\n",
      "  X['Retailer'] = X['Retailer'].map(retailer_dict)\n",
      "C:\\Users\\LENOVO\\AppData\\Local\\Temp\\ipykernel_11820\\97333637.py:4: SettingWithCopyWarning: \n",
      "A value is trying to be set on a copy of a slice from a DataFrame.\n",
      "Try using .loc[row_indexer,col_indexer] = value instead\n",
      "\n",
      "See the caveats in the documentation: https://pandas.pydata.org/pandas-docs/stable/user_guide/indexing.html#returning-a-view-versus-a-copy\n",
      "  X['Product'] = X['Product'].map({\"Men's Street Footwear\": 0,\n",
      "C:\\Users\\LENOVO\\AppData\\Local\\Temp\\ipykernel_11820\\97333637.py:11: SettingWithCopyWarning: \n",
      "A value is trying to be set on a copy of a slice from a DataFrame.\n",
      "Try using .loc[row_indexer,col_indexer] = value instead\n",
      "\n",
      "See the caveats in the documentation: https://pandas.pydata.org/pandas-docs/stable/user_guide/indexing.html#returning-a-view-versus-a-copy\n",
      "  X['Sales Method'] = X['Sales Method'].map({'In-store': 0, 'Outlet': 1, 'Online': 2})\n",
      "C:\\Users\\LENOVO\\AppData\\Local\\Temp\\ipykernel_11820\\97333637.py:13: SettingWithCopyWarning: \n",
      "A value is trying to be set on a copy of a slice from a DataFrame.\n",
      "Try using .loc[row_indexer,col_indexer] = value instead\n",
      "\n",
      "See the caveats in the documentation: https://pandas.pydata.org/pandas-docs/stable/user_guide/indexing.html#returning-a-view-versus-a-copy\n",
      "  X['Region'] = X['Region'].map({'Northeast': 0, 'South': 1, 'West': 2, 'Midwest': 3, 'Southeast': 4})\n"
     ]
    }
   ],
   "source": [
    "retailer_dict = {'Foot Locker': 0, 'Walmart': 1, 'Sports Direct': 2, 'West Gear': 3, \"Kohl's\": 4, 'Amazon': 5}\n",
    "X['Retailer'] = X['Retailer'].map(retailer_dict)\n",
    "\n",
    "X['Product'] = X['Product'].map({\"Men's Street Footwear\": 0, \n",
    "                    \"Men's Athletic Footwear\": 1, \n",
    "                    \"Women's Street Footwear\": 2, \n",
    "                    \"Women's Athletic Footwear\": 3,\n",
    "                    \"Men's Apparel\": 4, \n",
    "                    \"Women's Apparel\": 5})\n",
    "\n",
    "X['Sales Method'] = X['Sales Method'].map({'In-store': 0, 'Outlet': 1, 'Online': 2})\n",
    "\n",
    "X['Region'] = X['Region'].map({'Northeast': 0, 'South': 1, 'West': 2, 'Midwest': 3, 'Southeast': 4})"
   ]
  },
  {
   "cell_type": "code",
   "execution_count": 119,
   "metadata": {},
   "outputs": [],
   "source": [
    "X_train, x_test, Y_train, y_test = train_test_split(X, Y, test_size=0.2, random_state=1)"
   ]
  },
  {
   "cell_type": "code",
   "execution_count": 120,
   "metadata": {},
   "outputs": [
    {
     "data": {
      "text/html": [
       "<div>\n",
       "<style scoped>\n",
       "    .dataframe tbody tr th:only-of-type {\n",
       "        vertical-align: middle;\n",
       "    }\n",
       "\n",
       "    .dataframe tbody tr th {\n",
       "        vertical-align: top;\n",
       "    }\n",
       "\n",
       "    .dataframe thead th {\n",
       "        text-align: right;\n",
       "    }\n",
       "</style>\n",
       "<table border=\"1\" class=\"dataframe\">\n",
       "  <thead>\n",
       "    <tr style=\"text-align: right;\">\n",
       "      <th></th>\n",
       "      <th>Retailer</th>\n",
       "      <th>Product</th>\n",
       "      <th>Units Sold</th>\n",
       "      <th>Sales Method</th>\n",
       "      <th>Region</th>\n",
       "    </tr>\n",
       "  </thead>\n",
       "  <tbody>\n",
       "    <tr>\n",
       "      <th>8025</th>\n",
       "      <td>3</td>\n",
       "      <td>0</td>\n",
       "      <td>525</td>\n",
       "      <td>0</td>\n",
       "      <td>0</td>\n",
       "    </tr>\n",
       "    <tr>\n",
       "      <th>2573</th>\n",
       "      <td>2</td>\n",
       "      <td>3</td>\n",
       "      <td>131</td>\n",
       "      <td>1</td>\n",
       "      <td>1</td>\n",
       "    </tr>\n",
       "    <tr>\n",
       "      <th>6021</th>\n",
       "      <td>0</td>\n",
       "      <td>0</td>\n",
       "      <td>244</td>\n",
       "      <td>2</td>\n",
       "      <td>4</td>\n",
       "    </tr>\n",
       "    <tr>\n",
       "      <th>5725</th>\n",
       "      <td>2</td>\n",
       "      <td>4</td>\n",
       "      <td>450</td>\n",
       "      <td>2</td>\n",
       "      <td>4</td>\n",
       "    </tr>\n",
       "    <tr>\n",
       "      <th>112</th>\n",
       "      <td>0</td>\n",
       "      <td>4</td>\n",
       "      <td>231</td>\n",
       "      <td>2</td>\n",
       "      <td>0</td>\n",
       "    </tr>\n",
       "    <tr>\n",
       "      <th>...</th>\n",
       "      <td>...</td>\n",
       "      <td>...</td>\n",
       "      <td>...</td>\n",
       "      <td>...</td>\n",
       "      <td>...</td>\n",
       "    </tr>\n",
       "    <tr>\n",
       "      <th>2895</th>\n",
       "      <td>2</td>\n",
       "      <td>1</td>\n",
       "      <td>202</td>\n",
       "      <td>1</td>\n",
       "      <td>1</td>\n",
       "    </tr>\n",
       "    <tr>\n",
       "      <th>7813</th>\n",
       "      <td>3</td>\n",
       "      <td>4</td>\n",
       "      <td>46</td>\n",
       "      <td>2</td>\n",
       "      <td>3</td>\n",
       "    </tr>\n",
       "    <tr>\n",
       "      <th>905</th>\n",
       "      <td>0</td>\n",
       "      <td>3</td>\n",
       "      <td>225</td>\n",
       "      <td>1</td>\n",
       "      <td>3</td>\n",
       "    </tr>\n",
       "    <tr>\n",
       "      <th>5192</th>\n",
       "      <td>3</td>\n",
       "      <td>5</td>\n",
       "      <td>124</td>\n",
       "      <td>1</td>\n",
       "      <td>2</td>\n",
       "    </tr>\n",
       "    <tr>\n",
       "      <th>235</th>\n",
       "      <td>1</td>\n",
       "      <td>5</td>\n",
       "      <td>800</td>\n",
       "      <td>1</td>\n",
       "      <td>1</td>\n",
       "    </tr>\n",
       "  </tbody>\n",
       "</table>\n",
       "<p>7718 rows × 5 columns</p>\n",
       "</div>"
      ],
      "text/plain": [
       "      Retailer  Product  Units Sold  Sales Method  Region\n",
       "8025         3        0         525             0       0\n",
       "2573         2        3         131             1       1\n",
       "6021         0        0         244             2       4\n",
       "5725         2        4         450             2       4\n",
       "112          0        4         231             2       0\n",
       "...        ...      ...         ...           ...     ...\n",
       "2895         2        1         202             1       1\n",
       "7813         3        4          46             2       3\n",
       "905          0        3         225             1       3\n",
       "5192         3        5         124             1       2\n",
       "235          1        5         800             1       1\n",
       "\n",
       "[7718 rows x 5 columns]"
      ]
     },
     "execution_count": 120,
     "metadata": {},
     "output_type": "execute_result"
    }
   ],
   "source": [
    "X_train"
   ]
  },
  {
   "cell_type": "code",
   "execution_count": 122,
   "metadata": {},
   "outputs": [
    {
     "data": {
      "text/html": [
       "<style>#sk-container-id-1 {color: black;background-color: white;}#sk-container-id-1 pre{padding: 0;}#sk-container-id-1 div.sk-toggleable {background-color: white;}#sk-container-id-1 label.sk-toggleable__label {cursor: pointer;display: block;width: 100%;margin-bottom: 0;padding: 0.3em;box-sizing: border-box;text-align: center;}#sk-container-id-1 label.sk-toggleable__label-arrow:before {content: \"▸\";float: left;margin-right: 0.25em;color: #696969;}#sk-container-id-1 label.sk-toggleable__label-arrow:hover:before {color: black;}#sk-container-id-1 div.sk-estimator:hover label.sk-toggleable__label-arrow:before {color: black;}#sk-container-id-1 div.sk-toggleable__content {max-height: 0;max-width: 0;overflow: hidden;text-align: left;background-color: #f0f8ff;}#sk-container-id-1 div.sk-toggleable__content pre {margin: 0.2em;color: black;border-radius: 0.25em;background-color: #f0f8ff;}#sk-container-id-1 input.sk-toggleable__control:checked~div.sk-toggleable__content {max-height: 200px;max-width: 100%;overflow: auto;}#sk-container-id-1 input.sk-toggleable__control:checked~label.sk-toggleable__label-arrow:before {content: \"▾\";}#sk-container-id-1 div.sk-estimator input.sk-toggleable__control:checked~label.sk-toggleable__label {background-color: #d4ebff;}#sk-container-id-1 div.sk-label input.sk-toggleable__control:checked~label.sk-toggleable__label {background-color: #d4ebff;}#sk-container-id-1 input.sk-hidden--visually {border: 0;clip: rect(1px 1px 1px 1px);clip: rect(1px, 1px, 1px, 1px);height: 1px;margin: -1px;overflow: hidden;padding: 0;position: absolute;width: 1px;}#sk-container-id-1 div.sk-estimator {font-family: monospace;background-color: #f0f8ff;border: 1px dotted black;border-radius: 0.25em;box-sizing: border-box;margin-bottom: 0.5em;}#sk-container-id-1 div.sk-estimator:hover {background-color: #d4ebff;}#sk-container-id-1 div.sk-parallel-item::after {content: \"\";width: 100%;border-bottom: 1px solid gray;flex-grow: 1;}#sk-container-id-1 div.sk-label:hover label.sk-toggleable__label {background-color: #d4ebff;}#sk-container-id-1 div.sk-serial::before {content: \"\";position: absolute;border-left: 1px solid gray;box-sizing: border-box;top: 0;bottom: 0;left: 50%;z-index: 0;}#sk-container-id-1 div.sk-serial {display: flex;flex-direction: column;align-items: center;background-color: white;padding-right: 0.2em;padding-left: 0.2em;position: relative;}#sk-container-id-1 div.sk-item {position: relative;z-index: 1;}#sk-container-id-1 div.sk-parallel {display: flex;align-items: stretch;justify-content: center;background-color: white;position: relative;}#sk-container-id-1 div.sk-item::before, #sk-container-id-1 div.sk-parallel-item::before {content: \"\";position: absolute;border-left: 1px solid gray;box-sizing: border-box;top: 0;bottom: 0;left: 50%;z-index: -1;}#sk-container-id-1 div.sk-parallel-item {display: flex;flex-direction: column;z-index: 1;position: relative;background-color: white;}#sk-container-id-1 div.sk-parallel-item:first-child::after {align-self: flex-end;width: 50%;}#sk-container-id-1 div.sk-parallel-item:last-child::after {align-self: flex-start;width: 50%;}#sk-container-id-1 div.sk-parallel-item:only-child::after {width: 0;}#sk-container-id-1 div.sk-dashed-wrapped {border: 1px dashed gray;margin: 0 0.4em 0.5em 0.4em;box-sizing: border-box;padding-bottom: 0.4em;background-color: white;}#sk-container-id-1 div.sk-label label {font-family: monospace;font-weight: bold;display: inline-block;line-height: 1.2em;}#sk-container-id-1 div.sk-label-container {text-align: center;}#sk-container-id-1 div.sk-container {/* jupyter's `normalize.less` sets `[hidden] { display: none; }` but bootstrap.min.css set `[hidden] { display: none !important; }` so we also need the `!important` here to be able to override the default hidden behavior on the sphinx rendered scikit-learn.org. See: https://github.com/scikit-learn/scikit-learn/issues/21755 */display: inline-block !important;position: relative;}#sk-container-id-1 div.sk-text-repr-fallback {display: none;}</style><div id=\"sk-container-id-1\" class=\"sk-top-container\"><div class=\"sk-text-repr-fallback\"><pre>LinearRegression()</pre><b>In a Jupyter environment, please rerun this cell to show the HTML representation or trust the notebook. <br />On GitHub, the HTML representation is unable to render, please try loading this page with nbviewer.org.</b></div><div class=\"sk-container\" hidden><div class=\"sk-item\"><div class=\"sk-estimator sk-toggleable\"><input class=\"sk-toggleable__control sk-hidden--visually\" id=\"sk-estimator-id-1\" type=\"checkbox\" checked><label for=\"sk-estimator-id-1\" class=\"sk-toggleable__label sk-toggleable__label-arrow\">LinearRegression</label><div class=\"sk-toggleable__content\"><pre>LinearRegression()</pre></div></div></div></div></div>"
      ],
      "text/plain": [
       "LinearRegression()"
      ]
     },
     "execution_count": 122,
     "metadata": {},
     "output_type": "execute_result"
    }
   ],
   "source": [
    "lm = LinearRegression()\n",
    "lm.fit(X_train, Y_train)"
   ]
  },
  {
   "cell_type": "code",
   "execution_count": 123,
   "metadata": {},
   "outputs": [
    {
     "data": {
      "text/plain": [
       "0.14028889512891995"
      ]
     },
     "execution_count": 123,
     "metadata": {},
     "output_type": "execute_result"
    }
   ],
   "source": [
    "lm.score(X_train, Y_train)"
   ]
  },
  {
   "cell_type": "code",
   "execution_count": 124,
   "metadata": {},
   "outputs": [
    {
     "data": {
      "text/plain": [
       "array([ 0.44596244,  2.19641024,  0.02371487,  1.89800564, -0.01146035])"
      ]
     },
     "execution_count": 124,
     "metadata": {},
     "output_type": "execute_result"
    }
   ],
   "source": [
    "lm.coef_"
   ]
  },
  {
   "cell_type": "code",
   "execution_count": 125,
   "metadata": {},
   "outputs": [
    {
     "data": {
      "text/plain": [
       "30.186809917372354"
      ]
     },
     "execution_count": 125,
     "metadata": {},
     "output_type": "execute_result"
    }
   ],
   "source": [
    "lm.intercept_"
   ]
  },
  {
   "cell_type": "code",
   "execution_count": 126,
   "metadata": {},
   "outputs": [],
   "source": [
    "Y_pred = lm.predict(X)\n",
    "Y_pred = pd.DataFrame(Y_pred, columns=['Price Predict'])\n",
    "result_compare = pd.concat([X, Y, Y_pred], axis=1)\n",
    "result_compare['Deviation'] = result_compare['Price Predict'] - result_compare['Price per Unit']"
   ]
  },
  {
   "cell_type": "code",
   "execution_count": 127,
   "metadata": {},
   "outputs": [
    {
     "data": {
      "text/html": [
       "<div>\n",
       "<style scoped>\n",
       "    .dataframe tbody tr th:only-of-type {\n",
       "        vertical-align: middle;\n",
       "    }\n",
       "\n",
       "    .dataframe tbody tr th {\n",
       "        vertical-align: top;\n",
       "    }\n",
       "\n",
       "    .dataframe thead th {\n",
       "        text-align: right;\n",
       "    }\n",
       "</style>\n",
       "<table border=\"1\" class=\"dataframe\">\n",
       "  <thead>\n",
       "    <tr style=\"text-align: right;\">\n",
       "      <th></th>\n",
       "      <th>Retailer</th>\n",
       "      <th>Product</th>\n",
       "      <th>Units Sold</th>\n",
       "      <th>Sales Method</th>\n",
       "      <th>Region</th>\n",
       "      <th>Price per Unit</th>\n",
       "      <th>Price Predict</th>\n",
       "      <th>Deviation</th>\n",
       "    </tr>\n",
       "  </thead>\n",
       "  <tbody>\n",
       "    <tr>\n",
       "      <th>0</th>\n",
       "      <td>0</td>\n",
       "      <td>0</td>\n",
       "      <td>1200</td>\n",
       "      <td>0</td>\n",
       "      <td>0</td>\n",
       "      <td>50</td>\n",
       "      <td>58.644648</td>\n",
       "      <td>8.644648</td>\n",
       "    </tr>\n",
       "    <tr>\n",
       "      <th>1</th>\n",
       "      <td>0</td>\n",
       "      <td>1</td>\n",
       "      <td>1000</td>\n",
       "      <td>0</td>\n",
       "      <td>0</td>\n",
       "      <td>50</td>\n",
       "      <td>56.098085</td>\n",
       "      <td>6.098085</td>\n",
       "    </tr>\n",
       "    <tr>\n",
       "      <th>2</th>\n",
       "      <td>0</td>\n",
       "      <td>2</td>\n",
       "      <td>1000</td>\n",
       "      <td>0</td>\n",
       "      <td>0</td>\n",
       "      <td>40</td>\n",
       "      <td>58.294496</td>\n",
       "      <td>18.294496</td>\n",
       "    </tr>\n",
       "    <tr>\n",
       "      <th>3</th>\n",
       "      <td>0</td>\n",
       "      <td>3</td>\n",
       "      <td>850</td>\n",
       "      <td>0</td>\n",
       "      <td>0</td>\n",
       "      <td>45</td>\n",
       "      <td>56.933676</td>\n",
       "      <td>11.933676</td>\n",
       "    </tr>\n",
       "    <tr>\n",
       "      <th>4</th>\n",
       "      <td>0</td>\n",
       "      <td>4</td>\n",
       "      <td>900</td>\n",
       "      <td>0</td>\n",
       "      <td>0</td>\n",
       "      <td>60</td>\n",
       "      <td>60.315830</td>\n",
       "      <td>0.315830</td>\n",
       "    </tr>\n",
       "    <tr>\n",
       "      <th>...</th>\n",
       "      <td>...</td>\n",
       "      <td>...</td>\n",
       "      <td>...</td>\n",
       "      <td>...</td>\n",
       "      <td>...</td>\n",
       "      <td>...</td>\n",
       "      <td>...</td>\n",
       "      <td>...</td>\n",
       "    </tr>\n",
       "    <tr>\n",
       "      <th>9643</th>\n",
       "      <td>0</td>\n",
       "      <td>4</td>\n",
       "      <td>64</td>\n",
       "      <td>1</td>\n",
       "      <td>0</td>\n",
       "      <td>50</td>\n",
       "      <td>42.388208</td>\n",
       "      <td>-7.611792</td>\n",
       "    </tr>\n",
       "    <tr>\n",
       "      <th>9644</th>\n",
       "      <td>0</td>\n",
       "      <td>5</td>\n",
       "      <td>105</td>\n",
       "      <td>1</td>\n",
       "      <td>0</td>\n",
       "      <td>41</td>\n",
       "      <td>45.556928</td>\n",
       "      <td>4.556928</td>\n",
       "    </tr>\n",
       "    <tr>\n",
       "      <th>9645</th>\n",
       "      <td>0</td>\n",
       "      <td>0</td>\n",
       "      <td>184</td>\n",
       "      <td>1</td>\n",
       "      <td>0</td>\n",
       "      <td>41</td>\n",
       "      <td>36.448351</td>\n",
       "      <td>-4.551649</td>\n",
       "    </tr>\n",
       "    <tr>\n",
       "      <th>9646</th>\n",
       "      <td>0</td>\n",
       "      <td>1</td>\n",
       "      <td>70</td>\n",
       "      <td>1</td>\n",
       "      <td>0</td>\n",
       "      <td>42</td>\n",
       "      <td>35.941266</td>\n",
       "      <td>-6.058734</td>\n",
       "    </tr>\n",
       "    <tr>\n",
       "      <th>9647</th>\n",
       "      <td>0</td>\n",
       "      <td>2</td>\n",
       "      <td>83</td>\n",
       "      <td>1</td>\n",
       "      <td>0</td>\n",
       "      <td>29</td>\n",
       "      <td>38.445970</td>\n",
       "      <td>9.445970</td>\n",
       "    </tr>\n",
       "  </tbody>\n",
       "</table>\n",
       "<p>9648 rows × 8 columns</p>\n",
       "</div>"
      ],
      "text/plain": [
       "      Retailer  Product  Units Sold  Sales Method  Region  Price per Unit  \\\n",
       "0            0        0        1200             0       0              50   \n",
       "1            0        1        1000             0       0              50   \n",
       "2            0        2        1000             0       0              40   \n",
       "3            0        3         850             0       0              45   \n",
       "4            0        4         900             0       0              60   \n",
       "...        ...      ...         ...           ...     ...             ...   \n",
       "9643         0        4          64             1       0              50   \n",
       "9644         0        5         105             1       0              41   \n",
       "9645         0        0         184             1       0              41   \n",
       "9646         0        1          70             1       0              42   \n",
       "9647         0        2          83             1       0              29   \n",
       "\n",
       "      Price Predict  Deviation  \n",
       "0         58.644648   8.644648  \n",
       "1         56.098085   6.098085  \n",
       "2         58.294496  18.294496  \n",
       "3         56.933676  11.933676  \n",
       "4         60.315830   0.315830  \n",
       "...             ...        ...  \n",
       "9643      42.388208  -7.611792  \n",
       "9644      45.556928   4.556928  \n",
       "9645      36.448351  -4.551649  \n",
       "9646      35.941266  -6.058734  \n",
       "9647      38.445970   9.445970  \n",
       "\n",
       "[9648 rows x 8 columns]"
      ]
     },
     "execution_count": 127,
     "metadata": {},
     "output_type": "execute_result"
    }
   ],
   "source": [
    "result_compare"
   ]
  },
  {
   "cell_type": "code",
   "execution_count": 128,
   "metadata": {},
   "outputs": [
    {
     "data": {
      "text/html": [
       "<div>\n",
       "<style scoped>\n",
       "    .dataframe tbody tr th:only-of-type {\n",
       "        vertical-align: middle;\n",
       "    }\n",
       "\n",
       "    .dataframe tbody tr th {\n",
       "        vertical-align: top;\n",
       "    }\n",
       "\n",
       "    .dataframe thead th {\n",
       "        text-align: right;\n",
       "    }\n",
       "</style>\n",
       "<table border=\"1\" class=\"dataframe\">\n",
       "  <thead>\n",
       "    <tr style=\"text-align: right;\">\n",
       "      <th></th>\n",
       "      <th>Retailer</th>\n",
       "      <th>Product</th>\n",
       "      <th>Units Sold</th>\n",
       "      <th>Sales Method</th>\n",
       "      <th>Region</th>\n",
       "      <th>Price predict</th>\n",
       "    </tr>\n",
       "  </thead>\n",
       "  <tbody>\n",
       "    <tr>\n",
       "      <th>0</th>\n",
       "      <td>2</td>\n",
       "      <td>2</td>\n",
       "      <td>1223</td>\n",
       "      <td>2</td>\n",
       "      <td>0</td>\n",
       "      <td>68.270847</td>\n",
       "    </tr>\n",
       "  </tbody>\n",
       "</table>\n",
       "</div>"
      ],
      "text/plain": [
       "   Retailer  Product  Units Sold  Sales Method  Region  Price predict\n",
       "0         2        2        1223             2       0      68.270847"
      ]
     },
     "execution_count": 128,
     "metadata": {},
     "output_type": "execute_result"
    }
   ],
   "source": [
    "x_new = [[2,2,1223,2,0]]\n",
    "x_new = pd.DataFrame(x_new, columns=['Retailer', 'Product', 'Units Sold', 'Sales Method', 'Region'])\n",
    "price = lm.predict(x_new)\n",
    "price = pd.DataFrame(price, columns=['Price predict'])\n",
    "df_n = pd.concat([x_new, price], axis=1)\n",
    "df_n"
   ]
  },
  {
   "cell_type": "code",
   "execution_count": null,
   "metadata": {},
   "outputs": [],
   "source": [
    "# dfn.to_csv('out.csv', index=False)"
   ]
  }
 ],
 "metadata": {
  "kernelspec": {
   "display_name": "Python 3",
   "language": "python",
   "name": "python3"
  },
  "language_info": {
   "codemirror_mode": {
    "name": "ipython",
    "version": 3
   },
   "file_extension": ".py",
   "mimetype": "text/x-python",
   "name": "python",
   "nbconvert_exporter": "python",
   "pygments_lexer": "ipython3",
   "version": "3.10.9"
  }
 },
 "nbformat": 4,
 "nbformat_minor": 2
}
